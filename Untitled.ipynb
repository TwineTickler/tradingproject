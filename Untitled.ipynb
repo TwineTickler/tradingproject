{
 "cells": [
  {
   "cell_type": "code",
   "execution_count": 1,
   "metadata": {},
   "outputs": [],
   "source": [
    "import os"
   ]
  },
  {
   "cell_type": "code",
   "execution_count": 2,
   "metadata": {},
   "outputs": [
    {
     "data": {
      "text/plain": [
       "'/Users/sean/krakenproject/tradingproject'"
      ]
     },
     "execution_count": 2,
     "metadata": {},
     "output_type": "execute_result"
    }
   ],
   "source": [
    "os.getcwd()"
   ]
  },
  {
   "cell_type": "code",
   "execution_count": 3,
   "metadata": {},
   "outputs": [],
   "source": [
    "path = '/Users/sean/krakenproject/tradingproject/testing'"
   ]
  },
  {
   "cell_type": "code",
   "execution_count": 4,
   "metadata": {},
   "outputs": [],
   "source": [
    "os.chdir(path)"
   ]
  },
  {
   "cell_type": "code",
   "execution_count": 5,
   "metadata": {},
   "outputs": [
    {
     "data": {
      "text/plain": [
       "'/Users/sean/krakenproject/tradingproject/testing'"
      ]
     },
     "execution_count": 5,
     "metadata": {},
     "output_type": "execute_result"
    }
   ],
   "source": [
    "os.getcwd()"
   ]
  },
  {
   "cell_type": "code",
   "execution_count": 22,
   "metadata": {},
   "outputs": [],
   "source": [
    "resultsPath = '/Users/sean/krakenproject/tradingproject/results'"
   ]
  },
  {
   "cell_type": "code",
   "execution_count": 23,
   "metadata": {},
   "outputs": [],
   "source": [
    "run import_v2.py"
   ]
  },
  {
   "cell_type": "code",
   "execution_count": 30,
   "metadata": {},
   "outputs": [],
   "source": [
    "run convert_to_dataframe_v2_2.py"
   ]
  },
  {
   "cell_type": "code",
   "execution_count": 31,
   "metadata": {},
   "outputs": [
    {
     "name": "stdout",
     "output_type": "stream",
     "text": [
      "Attempting to import f2020_12_13.py......success\n",
      "Attempting to import f2020_12_12.py......success\n",
      "Attempting to import f2020_12_14.py......success\n"
     ]
    }
   ],
   "source": [
    "rawdata = import_results(resultsPath)"
   ]
  },
  {
   "cell_type": "code",
   "execution_count": 32,
   "metadata": {
    "scrolled": true
   },
   "outputs": [
    {
     "name": "stdout",
     "output_type": "stream",
     "text": [
      "<module 'f2020_12_13' from '/Users/sean/krakenproject/tradingproject/results/f2020_12_13.py'>\n",
      "<module 'f2020_12_12' from '/Users/sean/krakenproject/tradingproject/results/f2020_12_12.py'>\n",
      "<module 'f2020_12_14' from '/Users/sean/krakenproject/tradingproject/results/f2020_12_14.py'>\n"
     ]
    }
   ],
   "source": [
    "df = convert_to_dataframe(rawdata)"
   ]
  },
  {
   "cell_type": "code",
   "execution_count": 11,
   "metadata": {},
   "outputs": [
    {
     "name": "stderr",
     "output_type": "stream",
     "text": [
      "Using TensorFlow backend.\n",
      "/opt/anaconda3/lib/python3.7/site-packages/tensorflow/python/framework/dtypes.py:516: FutureWarning: Passing (type, 1) or '1type' as a synonym of type is deprecated; in a future version of numpy, it will be understood as (type, (1,)) / '(1,)type'.\n",
      "  _np_qint8 = np.dtype([(\"qint8\", np.int8, 1)])\n",
      "/opt/anaconda3/lib/python3.7/site-packages/tensorflow/python/framework/dtypes.py:517: FutureWarning: Passing (type, 1) or '1type' as a synonym of type is deprecated; in a future version of numpy, it will be understood as (type, (1,)) / '(1,)type'.\n",
      "  _np_quint8 = np.dtype([(\"quint8\", np.uint8, 1)])\n",
      "/opt/anaconda3/lib/python3.7/site-packages/tensorflow/python/framework/dtypes.py:518: FutureWarning: Passing (type, 1) or '1type' as a synonym of type is deprecated; in a future version of numpy, it will be understood as (type, (1,)) / '(1,)type'.\n",
      "  _np_qint16 = np.dtype([(\"qint16\", np.int16, 1)])\n",
      "/opt/anaconda3/lib/python3.7/site-packages/tensorflow/python/framework/dtypes.py:519: FutureWarning: Passing (type, 1) or '1type' as a synonym of type is deprecated; in a future version of numpy, it will be understood as (type, (1,)) / '(1,)type'.\n",
      "  _np_quint16 = np.dtype([(\"quint16\", np.uint16, 1)])\n",
      "/opt/anaconda3/lib/python3.7/site-packages/tensorflow/python/framework/dtypes.py:520: FutureWarning: Passing (type, 1) or '1type' as a synonym of type is deprecated; in a future version of numpy, it will be understood as (type, (1,)) / '(1,)type'.\n",
      "  _np_qint32 = np.dtype([(\"qint32\", np.int32, 1)])\n",
      "/opt/anaconda3/lib/python3.7/site-packages/tensorflow/python/framework/dtypes.py:525: FutureWarning: Passing (type, 1) or '1type' as a synonym of type is deprecated; in a future version of numpy, it will be understood as (type, (1,)) / '(1,)type'.\n",
      "  np_resource = np.dtype([(\"resource\", np.ubyte, 1)])\n",
      "/opt/anaconda3/lib/python3.7/site-packages/tensorboard/compat/tensorflow_stub/dtypes.py:541: FutureWarning: Passing (type, 1) or '1type' as a synonym of type is deprecated; in a future version of numpy, it will be understood as (type, (1,)) / '(1,)type'.\n",
      "  _np_qint8 = np.dtype([(\"qint8\", np.int8, 1)])\n",
      "/opt/anaconda3/lib/python3.7/site-packages/tensorboard/compat/tensorflow_stub/dtypes.py:542: FutureWarning: Passing (type, 1) or '1type' as a synonym of type is deprecated; in a future version of numpy, it will be understood as (type, (1,)) / '(1,)type'.\n",
      "  _np_quint8 = np.dtype([(\"quint8\", np.uint8, 1)])\n",
      "/opt/anaconda3/lib/python3.7/site-packages/tensorboard/compat/tensorflow_stub/dtypes.py:543: FutureWarning: Passing (type, 1) or '1type' as a synonym of type is deprecated; in a future version of numpy, it will be understood as (type, (1,)) / '(1,)type'.\n",
      "  _np_qint16 = np.dtype([(\"qint16\", np.int16, 1)])\n",
      "/opt/anaconda3/lib/python3.7/site-packages/tensorboard/compat/tensorflow_stub/dtypes.py:544: FutureWarning: Passing (type, 1) or '1type' as a synonym of type is deprecated; in a future version of numpy, it will be understood as (type, (1,)) / '(1,)type'.\n",
      "  _np_quint16 = np.dtype([(\"quint16\", np.uint16, 1)])\n",
      "/opt/anaconda3/lib/python3.7/site-packages/tensorboard/compat/tensorflow_stub/dtypes.py:545: FutureWarning: Passing (type, 1) or '1type' as a synonym of type is deprecated; in a future version of numpy, it will be understood as (type, (1,)) / '(1,)type'.\n",
      "  _np_qint32 = np.dtype([(\"qint32\", np.int32, 1)])\n",
      "/opt/anaconda3/lib/python3.7/site-packages/tensorboard/compat/tensorflow_stub/dtypes.py:550: FutureWarning: Passing (type, 1) or '1type' as a synonym of type is deprecated; in a future version of numpy, it will be understood as (type, (1,)) / '(1,)type'.\n",
      "  np_resource = np.dtype([(\"resource\", np.ubyte, 1)])\n"
     ]
    }
   ],
   "source": [
    "run imports.py"
   ]
  },
  {
   "cell_type": "code",
   "execution_count": 12,
   "metadata": {},
   "outputs": [],
   "source": [
    "numpy.random.seed(7)"
   ]
  },
  {
   "cell_type": "code",
   "execution_count": 33,
   "metadata": {},
   "outputs": [
    {
     "data": {
      "text/html": [
       "<div>\n",
       "<style scoped>\n",
       "    .dataframe tbody tr th:only-of-type {\n",
       "        vertical-align: middle;\n",
       "    }\n",
       "\n",
       "    .dataframe tbody tr th {\n",
       "        vertical-align: top;\n",
       "    }\n",
       "\n",
       "    .dataframe thead th {\n",
       "        text-align: right;\n",
       "    }\n",
       "</style>\n",
       "<table border=\"1\" class=\"dataframe\">\n",
       "  <thead>\n",
       "    <tr style=\"text-align: right;\">\n",
       "      <th></th>\n",
       "      <th>Datetime</th>\n",
       "      <th>Error</th>\n",
       "      <th>ErrorInfo</th>\n",
       "      <th>bid1</th>\n",
       "      <th>bid2</th>\n",
       "      <th>bid3</th>\n",
       "      <th>bid1v</th>\n",
       "      <th>bid2v</th>\n",
       "      <th>bid3v</th>\n",
       "      <th>ask1</th>\n",
       "      <th>ask2</th>\n",
       "      <th>ask3</th>\n",
       "      <th>ask1v</th>\n",
       "      <th>ask2v</th>\n",
       "      <th>ask3v</th>\n",
       "    </tr>\n",
       "  </thead>\n",
       "  <tbody>\n",
       "    <tr>\n",
       "      <td>0</td>\n",
       "      <td>2020-12-12 00:00:02</td>\n",
       "      <td>False</td>\n",
       "      <td>NaN</td>\n",
       "      <td>18035.4</td>\n",
       "      <td>18035.1</td>\n",
       "      <td>18032.4</td>\n",
       "      <td>5.088</td>\n",
       "      <td>0.093</td>\n",
       "      <td>5.900</td>\n",
       "      <td>18037.1</td>\n",
       "      <td>18037.2</td>\n",
       "      <td>18038.3</td>\n",
       "      <td>0.055</td>\n",
       "      <td>1.000</td>\n",
       "      <td>0.125</td>\n",
       "    </tr>\n",
       "    <tr>\n",
       "      <td>1</td>\n",
       "      <td>2020-12-12 00:00:05</td>\n",
       "      <td>False</td>\n",
       "      <td>NaN</td>\n",
       "      <td>18036.5</td>\n",
       "      <td>18033.9</td>\n",
       "      <td>18030.7</td>\n",
       "      <td>0.350</td>\n",
       "      <td>2.218</td>\n",
       "      <td>0.670</td>\n",
       "      <td>18036.6</td>\n",
       "      <td>18037.9</td>\n",
       "      <td>18038.3</td>\n",
       "      <td>3.727</td>\n",
       "      <td>0.051</td>\n",
       "      <td>2.125</td>\n",
       "    </tr>\n",
       "    <tr>\n",
       "      <td>2</td>\n",
       "      <td>2020-12-12 00:00:08</td>\n",
       "      <td>False</td>\n",
       "      <td>NaN</td>\n",
       "      <td>18035.3</td>\n",
       "      <td>18034.6</td>\n",
       "      <td>18034.5</td>\n",
       "      <td>2.000</td>\n",
       "      <td>0.113</td>\n",
       "      <td>0.072</td>\n",
       "      <td>18036.6</td>\n",
       "      <td>18038.3</td>\n",
       "      <td>18040.3</td>\n",
       "      <td>0.133</td>\n",
       "      <td>2.000</td>\n",
       "      <td>0.416</td>\n",
       "    </tr>\n",
       "    <tr>\n",
       "      <td>3</td>\n",
       "      <td>2020-12-12 00:00:11</td>\n",
       "      <td>False</td>\n",
       "      <td>NaN</td>\n",
       "      <td>18034.5</td>\n",
       "      <td>18034.4</td>\n",
       "      <td>18030.5</td>\n",
       "      <td>0.048</td>\n",
       "      <td>1.375</td>\n",
       "      <td>2.219</td>\n",
       "      <td>18041.2</td>\n",
       "      <td>18041.3</td>\n",
       "      <td>18041.9</td>\n",
       "      <td>4.265</td>\n",
       "      <td>9.221</td>\n",
       "      <td>0.049</td>\n",
       "    </tr>\n",
       "    <tr>\n",
       "      <td>4</td>\n",
       "      <td>2020-12-12 00:00:14</td>\n",
       "      <td>False</td>\n",
       "      <td>NaN</td>\n",
       "      <td>18027.5</td>\n",
       "      <td>18027.3</td>\n",
       "      <td>18024.4</td>\n",
       "      <td>0.002</td>\n",
       "      <td>2.219</td>\n",
       "      <td>0.040</td>\n",
       "      <td>18034.6</td>\n",
       "      <td>18034.7</td>\n",
       "      <td>18036.5</td>\n",
       "      <td>7.322</td>\n",
       "      <td>2.000</td>\n",
       "      <td>0.133</td>\n",
       "    </tr>\n",
       "    <tr>\n",
       "      <td>...</td>\n",
       "      <td>...</td>\n",
       "      <td>...</td>\n",
       "      <td>...</td>\n",
       "      <td>...</td>\n",
       "      <td>...</td>\n",
       "      <td>...</td>\n",
       "      <td>...</td>\n",
       "      <td>...</td>\n",
       "      <td>...</td>\n",
       "      <td>...</td>\n",
       "      <td>...</td>\n",
       "      <td>...</td>\n",
       "      <td>...</td>\n",
       "      <td>...</td>\n",
       "      <td>...</td>\n",
       "    </tr>\n",
       "    <tr>\n",
       "      <td>82921</td>\n",
       "      <td>2020-12-14 23:59:46</td>\n",
       "      <td>False</td>\n",
       "      <td>NaN</td>\n",
       "      <td>19281.0</td>\n",
       "      <td>19280.9</td>\n",
       "      <td>19269.5</td>\n",
       "      <td>1.971</td>\n",
       "      <td>0.070</td>\n",
       "      <td>0.756</td>\n",
       "      <td>19281.1</td>\n",
       "      <td>19281.2</td>\n",
       "      <td>19281.3</td>\n",
       "      <td>15.323</td>\n",
       "      <td>2.498</td>\n",
       "      <td>2.076</td>\n",
       "    </tr>\n",
       "    <tr>\n",
       "      <td>82922</td>\n",
       "      <td>2020-12-14 23:59:49</td>\n",
       "      <td>False</td>\n",
       "      <td>NaN</td>\n",
       "      <td>19281.0</td>\n",
       "      <td>19280.9</td>\n",
       "      <td>19269.5</td>\n",
       "      <td>1.970</td>\n",
       "      <td>0.070</td>\n",
       "      <td>0.756</td>\n",
       "      <td>19281.1</td>\n",
       "      <td>19281.2</td>\n",
       "      <td>19281.3</td>\n",
       "      <td>15.301</td>\n",
       "      <td>2.498</td>\n",
       "      <td>2.076</td>\n",
       "    </tr>\n",
       "    <tr>\n",
       "      <td>82923</td>\n",
       "      <td>2020-12-14 23:59:52</td>\n",
       "      <td>False</td>\n",
       "      <td>NaN</td>\n",
       "      <td>19281.0</td>\n",
       "      <td>19280.9</td>\n",
       "      <td>19269.2</td>\n",
       "      <td>1.968</td>\n",
       "      <td>0.070</td>\n",
       "      <td>1.455</td>\n",
       "      <td>19281.1</td>\n",
       "      <td>19281.2</td>\n",
       "      <td>19281.3</td>\n",
       "      <td>15.375</td>\n",
       "      <td>2.498</td>\n",
       "      <td>2.076</td>\n",
       "    </tr>\n",
       "    <tr>\n",
       "      <td>82924</td>\n",
       "      <td>2020-12-14 23:59:55</td>\n",
       "      <td>False</td>\n",
       "      <td>NaN</td>\n",
       "      <td>19281.0</td>\n",
       "      <td>19280.9</td>\n",
       "      <td>19269.2</td>\n",
       "      <td>1.968</td>\n",
       "      <td>0.070</td>\n",
       "      <td>1.455</td>\n",
       "      <td>19281.1</td>\n",
       "      <td>19281.2</td>\n",
       "      <td>19281.3</td>\n",
       "      <td>15.623</td>\n",
       "      <td>2.498</td>\n",
       "      <td>2.076</td>\n",
       "    </tr>\n",
       "    <tr>\n",
       "      <td>82925</td>\n",
       "      <td>2020-12-14 23:59:58</td>\n",
       "      <td>False</td>\n",
       "      <td>NaN</td>\n",
       "      <td>19281.0</td>\n",
       "      <td>19280.9</td>\n",
       "      <td>19269.2</td>\n",
       "      <td>1.968</td>\n",
       "      <td>0.070</td>\n",
       "      <td>1.455</td>\n",
       "      <td>19281.1</td>\n",
       "      <td>19281.2</td>\n",
       "      <td>19281.3</td>\n",
       "      <td>15.623</td>\n",
       "      <td>2.498</td>\n",
       "      <td>2.076</td>\n",
       "    </tr>\n",
       "  </tbody>\n",
       "</table>\n",
       "<p>82926 rows × 15 columns</p>\n",
       "</div>"
      ],
      "text/plain": [
       "                 Datetime  Error  ErrorInfo     bid1     bid2     bid3  bid1v  \\\n",
       "0     2020-12-12 00:00:02  False        NaN  18035.4  18035.1  18032.4  5.088   \n",
       "1     2020-12-12 00:00:05  False        NaN  18036.5  18033.9  18030.7  0.350   \n",
       "2     2020-12-12 00:00:08  False        NaN  18035.3  18034.6  18034.5  2.000   \n",
       "3     2020-12-12 00:00:11  False        NaN  18034.5  18034.4  18030.5  0.048   \n",
       "4     2020-12-12 00:00:14  False        NaN  18027.5  18027.3  18024.4  0.002   \n",
       "...                   ...    ...        ...      ...      ...      ...    ...   \n",
       "82921 2020-12-14 23:59:46  False        NaN  19281.0  19280.9  19269.5  1.971   \n",
       "82922 2020-12-14 23:59:49  False        NaN  19281.0  19280.9  19269.5  1.970   \n",
       "82923 2020-12-14 23:59:52  False        NaN  19281.0  19280.9  19269.2  1.968   \n",
       "82924 2020-12-14 23:59:55  False        NaN  19281.0  19280.9  19269.2  1.968   \n",
       "82925 2020-12-14 23:59:58  False        NaN  19281.0  19280.9  19269.2  1.968   \n",
       "\n",
       "       bid2v  bid3v     ask1     ask2     ask3   ask1v  ask2v  ask3v  \n",
       "0      0.093  5.900  18037.1  18037.2  18038.3   0.055  1.000  0.125  \n",
       "1      2.218  0.670  18036.6  18037.9  18038.3   3.727  0.051  2.125  \n",
       "2      0.113  0.072  18036.6  18038.3  18040.3   0.133  2.000  0.416  \n",
       "3      1.375  2.219  18041.2  18041.3  18041.9   4.265  9.221  0.049  \n",
       "4      2.219  0.040  18034.6  18034.7  18036.5   7.322  2.000  0.133  \n",
       "...      ...    ...      ...      ...      ...     ...    ...    ...  \n",
       "82921  0.070  0.756  19281.1  19281.2  19281.3  15.323  2.498  2.076  \n",
       "82922  0.070  0.756  19281.1  19281.2  19281.3  15.301  2.498  2.076  \n",
       "82923  0.070  1.455  19281.1  19281.2  19281.3  15.375  2.498  2.076  \n",
       "82924  0.070  1.455  19281.1  19281.2  19281.3  15.623  2.498  2.076  \n",
       "82925  0.070  1.455  19281.1  19281.2  19281.3  15.623  2.498  2.076  \n",
       "\n",
       "[82926 rows x 15 columns]"
      ]
     },
     "execution_count": 33,
     "metadata": {},
     "output_type": "execute_result"
    }
   ],
   "source": [
    "df"
   ]
  },
  {
   "cell_type": "code",
   "execution_count": 36,
   "metadata": {},
   "outputs": [],
   "source": [
    "df = df[['bid1']]"
   ]
  },
  {
   "cell_type": "code",
   "execution_count": 37,
   "metadata": {},
   "outputs": [
    {
     "data": {
      "text/html": [
       "<div>\n",
       "<style scoped>\n",
       "    .dataframe tbody tr th:only-of-type {\n",
       "        vertical-align: middle;\n",
       "    }\n",
       "\n",
       "    .dataframe tbody tr th {\n",
       "        vertical-align: top;\n",
       "    }\n",
       "\n",
       "    .dataframe thead th {\n",
       "        text-align: right;\n",
       "    }\n",
       "</style>\n",
       "<table border=\"1\" class=\"dataframe\">\n",
       "  <thead>\n",
       "    <tr style=\"text-align: right;\">\n",
       "      <th></th>\n",
       "      <th>bid1</th>\n",
       "    </tr>\n",
       "  </thead>\n",
       "  <tbody>\n",
       "    <tr>\n",
       "      <td>0</td>\n",
       "      <td>18035.4</td>\n",
       "    </tr>\n",
       "    <tr>\n",
       "      <td>1</td>\n",
       "      <td>18036.5</td>\n",
       "    </tr>\n",
       "    <tr>\n",
       "      <td>2</td>\n",
       "      <td>18035.3</td>\n",
       "    </tr>\n",
       "    <tr>\n",
       "      <td>3</td>\n",
       "      <td>18034.5</td>\n",
       "    </tr>\n",
       "    <tr>\n",
       "      <td>4</td>\n",
       "      <td>18027.5</td>\n",
       "    </tr>\n",
       "    <tr>\n",
       "      <td>...</td>\n",
       "      <td>...</td>\n",
       "    </tr>\n",
       "    <tr>\n",
       "      <td>82921</td>\n",
       "      <td>19281.0</td>\n",
       "    </tr>\n",
       "    <tr>\n",
       "      <td>82922</td>\n",
       "      <td>19281.0</td>\n",
       "    </tr>\n",
       "    <tr>\n",
       "      <td>82923</td>\n",
       "      <td>19281.0</td>\n",
       "    </tr>\n",
       "    <tr>\n",
       "      <td>82924</td>\n",
       "      <td>19281.0</td>\n",
       "    </tr>\n",
       "    <tr>\n",
       "      <td>82925</td>\n",
       "      <td>19281.0</td>\n",
       "    </tr>\n",
       "  </tbody>\n",
       "</table>\n",
       "<p>82926 rows × 1 columns</p>\n",
       "</div>"
      ],
      "text/plain": [
       "          bid1\n",
       "0      18035.4\n",
       "1      18036.5\n",
       "2      18035.3\n",
       "3      18034.5\n",
       "4      18027.5\n",
       "...        ...\n",
       "82921  19281.0\n",
       "82922  19281.0\n",
       "82923  19281.0\n",
       "82924  19281.0\n",
       "82925  19281.0\n",
       "\n",
       "[82926 rows x 1 columns]"
      ]
     },
     "execution_count": 37,
     "metadata": {},
     "output_type": "execute_result"
    }
   ],
   "source": [
    "df"
   ]
  },
  {
   "cell_type": "code",
   "execution_count": 38,
   "metadata": {},
   "outputs": [
    {
     "data": {
      "text/plain": [
       "[<matplotlib.lines.Line2D at 0x7f9b19280d50>]"
      ]
     },
     "execution_count": 38,
     "metadata": {},
     "output_type": "execute_result"
    },
    {
     "data": {
      "image/png": "[encoded data removed]",
      "text/plain": [
       "<Figure size 432x288 with 1 Axes>"
      ]
     },
     "metadata": {
      "needs_background": "light"
     },
     "output_type": "display_data"
    }
   ],
   "source": [
    "plt.plot(df)"
   ]
  },
  {
   "cell_type": "code",
   "execution_count": 39,
   "metadata": {},
   "outputs": [
    {
     "data": {
      "text/html": [
       "<div>\n",
       "<style scoped>\n",
       "    .dataframe tbody tr th:only-of-type {\n",
       "        vertical-align: middle;\n",
       "    }\n",
       "\n",
       "    .dataframe tbody tr th {\n",
       "        vertical-align: top;\n",
       "    }\n",
       "\n",
       "    .dataframe thead th {\n",
       "        text-align: right;\n",
       "    }\n",
       "</style>\n",
       "<table border=\"1\" class=\"dataframe\">\n",
       "  <thead>\n",
       "    <tr style=\"text-align: right;\">\n",
       "      <th></th>\n",
       "      <th>bid1</th>\n",
       "    </tr>\n",
       "  </thead>\n",
       "  <tbody>\n",
       "    <tr>\n",
       "      <td>count</td>\n",
       "      <td>82926.000000</td>\n",
       "    </tr>\n",
       "    <tr>\n",
       "      <td>mean</td>\n",
       "      <td>18917.015109</td>\n",
       "    </tr>\n",
       "    <tr>\n",
       "      <td>std</td>\n",
       "      <td>352.825154</td>\n",
       "    </tr>\n",
       "    <tr>\n",
       "      <td>min</td>\n",
       "      <td>18026.400000</td>\n",
       "    </tr>\n",
       "    <tr>\n",
       "      <td>25%</td>\n",
       "      <td>18581.800000</td>\n",
       "    </tr>\n",
       "    <tr>\n",
       "      <td>50%</td>\n",
       "      <td>19091.500000</td>\n",
       "    </tr>\n",
       "    <tr>\n",
       "      <td>75%</td>\n",
       "      <td>19190.900000</td>\n",
       "    </tr>\n",
       "    <tr>\n",
       "      <td>max</td>\n",
       "      <td>19416.200000</td>\n",
       "    </tr>\n",
       "  </tbody>\n",
       "</table>\n",
       "</div>"
      ],
      "text/plain": [
       "               bid1\n",
       "count  82926.000000\n",
       "mean   18917.015109\n",
       "std      352.825154\n",
       "min    18026.400000\n",
       "25%    18581.800000\n",
       "50%    19091.500000\n",
       "75%    19190.900000\n",
       "max    19416.200000"
      ]
     },
     "execution_count": 39,
     "metadata": {},
     "output_type": "execute_result"
    }
   ],
   "source": [
    "df.describe()"
   ]
  },
  {
   "cell_type": "code",
   "execution_count": 52,
   "metadata": {},
   "outputs": [],
   "source": [
    "run prepare_data.py"
   ]
  },
  {
   "cell_type": "code",
   "execution_count": 53,
   "metadata": {},
   "outputs": [
    {
     "name": "stdout",
     "output_type": "stream",
     "text": [
      "55560 27366\n"
     ]
    }
   ],
   "source": [
    "trainX, trainY, testX, testY = prepare_data(df)"
   ]
  },
  {
   "cell_type": "code",
   "execution_count": 70,
   "metadata": {},
   "outputs": [],
   "source": [
    "look_back = 1"
   ]
  },
  {
   "cell_type": "raw",
   "metadata": {},
   "source": [
    "len(trainX)"
   ]
  },
  {
   "cell_type": "code",
   "execution_count": 72,
   "metadata": {},
   "outputs": [
    {
     "name": "stdout",
     "output_type": "stream",
     "text": [
      "WARNING:tensorflow:From /opt/anaconda3/lib/python3.7/site-packages/keras/backend/tensorflow_backend.py:422: The name tf.global_variables is deprecated. Please use tf.compat.v1.global_variables instead.\n",
      "\n"
     ]
    },
    {
     "name": "stderr",
     "output_type": "stream",
     "text": [
      "WARNING:tensorflow:From /opt/anaconda3/lib/python3.7/site-packages/keras/backend/tensorflow_backend.py:422: The name tf.global_variables is deprecated. Please use tf.compat.v1.global_variables instead.\n",
      "\n"
     ]
    },
    {
     "name": "stdout",
     "output_type": "stream",
     "text": [
      "Epoch 1/100\n",
      " - 105s - loss: 0.0010\n",
      "Epoch 2/100\n",
      " - 104s - loss: 5.4947e-06\n",
      "Epoch 3/100\n",
      " - 102s - loss: 5.0739e-06\n",
      "Epoch 4/100\n",
      " - 102s - loss: 4.8867e-06\n",
      "Epoch 5/100\n",
      " - 103s - loss: 4.7922e-06\n",
      "Epoch 6/100\n",
      " - 103s - loss: 4.7536e-06\n",
      "Epoch 7/100\n",
      " - 103s - loss: 4.6656e-06\n",
      "Epoch 8/100\n",
      " - 102s - loss: 4.6502e-06\n",
      "Epoch 9/100\n",
      " - 102s - loss: 4.6012e-06\n",
      "Epoch 10/100\n",
      " - 102s - loss: 4.5663e-06\n",
      "Epoch 11/100\n",
      " - 103s - loss: 4.4580e-06\n",
      "Epoch 12/100\n",
      " - 106s - loss: 4.5443e-06\n",
      "Epoch 13/100\n",
      " - 105s - loss: 4.5180e-06\n",
      "Epoch 14/100\n",
      " - 103s - loss: 4.3859e-06\n",
      "Epoch 15/100\n",
      " - 105s - loss: 4.4648e-06\n",
      "Epoch 16/100\n",
      " - 105s - loss: 4.3798e-06\n",
      "Epoch 17/100\n",
      " - 104s - loss: 4.3672e-06\n",
      "Epoch 18/100\n",
      " - 108s - loss: 4.2946e-06\n",
      "Epoch 19/100\n",
      " - 104s - loss: 4.3434e-06\n",
      "Epoch 20/100\n",
      " - 104s - loss: 4.2892e-06\n",
      "Epoch 21/100\n",
      " - 104s - loss: 4.3457e-06\n",
      "Epoch 22/100\n",
      " - 109s - loss: 4.3369e-06\n",
      "Epoch 23/100\n",
      " - 114s - loss: 4.2512e-06\n",
      "Epoch 24/100\n",
      " - 111s - loss: 4.2105e-06\n",
      "Epoch 25/100\n",
      " - 108s - loss: 4.2653e-06\n",
      "Epoch 26/100\n",
      " - 105s - loss: 4.2315e-06\n",
      "Epoch 27/100\n",
      " - 104s - loss: 4.2150e-06\n",
      "Epoch 28/100\n",
      " - 115s - loss: 4.1740e-06\n",
      "Epoch 29/100\n",
      " - 115s - loss: 4.1715e-06\n",
      "Epoch 30/100\n",
      " - 123s - loss: 4.1379e-06\n",
      "Epoch 31/100\n",
      " - 108s - loss: 4.0342e-06\n",
      "Epoch 32/100\n",
      " - 105s - loss: 4.1219e-06\n",
      "Epoch 33/100\n",
      " - 105s - loss: 4.0268e-06\n",
      "Epoch 34/100\n",
      " - 106s - loss: 4.0610e-06\n",
      "Epoch 35/100\n",
      " - 104s - loss: 3.9960e-06\n",
      "Epoch 36/100\n",
      " - 105s - loss: 4.0207e-06\n",
      "Epoch 37/100\n",
      " - 107s - loss: 4.0158e-06\n",
      "Epoch 38/100\n",
      " - 105s - loss: 3.9634e-06\n",
      "Epoch 39/100\n",
      " - 104s - loss: 4.0063e-06\n",
      "Epoch 40/100\n",
      " - 105s - loss: 4.0023e-06\n",
      "Epoch 41/100\n",
      " - 104s - loss: 3.9804e-06\n",
      "Epoch 42/100\n",
      " - 106s - loss: 3.9352e-06\n",
      "Epoch 43/100\n",
      " - 104s - loss: 3.9244e-06\n",
      "Epoch 44/100\n",
      " - 105s - loss: 3.8682e-06\n",
      "Epoch 45/100\n",
      " - 106s - loss: 3.9411e-06\n",
      "Epoch 46/100\n",
      " - 107s - loss: 3.8656e-06\n",
      "Epoch 47/100\n",
      " - 106s - loss: 3.8412e-06\n",
      "Epoch 48/100\n",
      " - 105s - loss: 3.8741e-06\n",
      "Epoch 49/100\n",
      " - 106s - loss: 3.8402e-06\n",
      "Epoch 50/100\n",
      " - 106s - loss: 3.8174e-06\n",
      "Epoch 51/100\n",
      " - 104s - loss: 3.8107e-06\n",
      "Epoch 52/100\n",
      " - 106s - loss: 3.8784e-06\n",
      "Epoch 53/100\n",
      " - 105s - loss: 3.7836e-06\n",
      "Epoch 54/100\n",
      " - 104s - loss: 3.7400e-06\n",
      "Epoch 55/100\n",
      " - 105s - loss: 3.8330e-06\n",
      "Epoch 56/100\n",
      " - 106s - loss: 3.7480e-06\n",
      "Epoch 57/100\n",
      " - 106s - loss: 3.7648e-06\n",
      "Epoch 58/100\n",
      " - 105s - loss: 3.7153e-06\n",
      "Epoch 59/100\n",
      " - 107s - loss: 3.7926e-06\n",
      "Epoch 60/100\n",
      " - 105s - loss: 3.7711e-06\n",
      "Epoch 61/100\n",
      " - 105s - loss: 3.7457e-06\n",
      "Epoch 62/100\n",
      " - 106s - loss: 3.7670e-06\n",
      "Epoch 63/100\n",
      " - 106s - loss: 3.7400e-06\n",
      "Epoch 64/100\n",
      " - 105s - loss: 3.6889e-06\n",
      "Epoch 65/100\n",
      " - 104s - loss: 3.6958e-06\n",
      "Epoch 66/100\n",
      " - 104s - loss: 3.6972e-06\n",
      "Epoch 67/100\n",
      " - 105s - loss: 3.6854e-06\n",
      "Epoch 68/100\n",
      " - 104s - loss: 3.6819e-06\n",
      "Epoch 69/100\n",
      " - 105s - loss: 3.6897e-06\n",
      "Epoch 70/100\n",
      " - 108s - loss: 3.6866e-06\n",
      "Epoch 71/100\n",
      " - 105s - loss: 3.6696e-06\n",
      "Epoch 72/100\n",
      " - 104s - loss: 3.6549e-06\n",
      "Epoch 73/100\n",
      " - 104s - loss: 3.6543e-06\n",
      "Epoch 74/100\n",
      " - 105s - loss: 3.6425e-06\n",
      "Epoch 75/100\n",
      " - 105s - loss: 3.6472e-06\n",
      "Epoch 76/100\n",
      " - 104s - loss: 3.6060e-06\n",
      "Epoch 77/100\n",
      " - 104s - loss: 3.6312e-06\n",
      "Epoch 78/100\n",
      " - 106s - loss: 3.5895e-06\n",
      "Epoch 79/100\n",
      " - 106s - loss: 3.6260e-06\n",
      "Epoch 80/100\n",
      " - 107s - loss: 3.5739e-06\n",
      "Epoch 81/100\n",
      " - 106s - loss: 3.6029e-06\n",
      "Epoch 82/100\n",
      " - 107s - loss: 3.5642e-06\n",
      "Epoch 83/100\n",
      " - 106s - loss: 3.5959e-06\n",
      "Epoch 84/100\n",
      " - 107s - loss: 3.5638e-06\n",
      "Epoch 85/100\n",
      " - 106s - loss: 3.5995e-06\n",
      "Epoch 86/100\n",
      " - 106s - loss: 3.5793e-06\n",
      "Epoch 87/100\n",
      " - 107s - loss: 3.6127e-06\n",
      "Epoch 88/100\n",
      " - 107s - loss: 3.5984e-06\n",
      "Epoch 89/100\n",
      " - 105s - loss: 3.5592e-06\n",
      "Epoch 90/100\n",
      " - 106s - loss: 3.5791e-06\n",
      "Epoch 91/100\n",
      " - 105s - loss: 3.5596e-06\n",
      "Epoch 92/100\n",
      " - 106s - loss: 3.5506e-06\n",
      "Epoch 93/100\n",
      " - 105s - loss: 3.5467e-06\n",
      "Epoch 94/100\n",
      " - 104s - loss: 3.5421e-06\n",
      "Epoch 95/100\n",
      " - 105s - loss: 3.5269e-06\n",
      "Epoch 96/100\n",
      " - 105s - loss: 3.5520e-06\n",
      "Epoch 97/100\n",
      " - 106s - loss: 3.5410e-06\n",
      "Epoch 98/100\n",
      " - 106s - loss: 3.5272e-06\n",
      "Epoch 99/100\n",
      " - 105s - loss: 3.4942e-06\n",
      "Epoch 100/100\n",
      " - 106s - loss: 3.5205e-06\n"
     ]
    },
    {
     "data": {
      "text/plain": [
       "<keras.callbacks.callbacks.History at 0x7f9afe9c3450>"
      ]
     },
     "execution_count": 72,
     "metadata": {},
     "output_type": "execute_result"
    }
   ],
   "source": [
    "model = Sequential()\n",
    "model.add(LSTM(4, input_shape=(1, look_back)))\n",
    "model.add(Dense(1))\n",
    "model.compile(loss='mean_squared_error', optimizer='adam')\n",
    "model.fit(trainX, trainY, epochs=100, batch_size=1, verbose=2)"
   ]
  },
  {
   "cell_type": "code",
   "execution_count": null,
   "metadata": {},
   "outputs": [],
   "source": []
  }
 ],
 "metadata": {
  "kernelspec": {
   "display_name": "Python 3",
   "language": "python",
   "name": "python3"
  },
  "language_info": {
   "codemirror_mode": {
    "name": "ipython",
    "version": 3
   },
   "file_extension": ".py",
   "mimetype": "text/x-python",
   "name": "python",
   "nbconvert_exporter": "python",
   "pygments_lexer": "ipython3",
   "version": "3.7.4"
  }
 },
 "nbformat": 4,
 "nbformat_minor": 2
}
