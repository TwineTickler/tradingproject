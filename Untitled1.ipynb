{
 "cells": [
  {
   "cell_type": "code",
   "execution_count": 2,
   "metadata": {},
   "outputs": [],
   "source": [
    "import os"
   ]
  },
  {
   "cell_type": "code",
   "execution_count": 6,
   "metadata": {},
   "outputs": [
    {
     "data": {
      "text/plain": [
       "'/Users/sean/kraken_api_project/tradingproject/testing'"
      ]
     },
     "execution_count": 6,
     "metadata": {},
     "output_type": "execute_result"
    }
   ],
   "source": [
    "os.getcwd()"
   ]
  },
  {
   "cell_type": "code",
   "execution_count": 4,
   "metadata": {},
   "outputs": [],
   "source": [
    "path = '/Users/sean/kraken_api_project/tradingproject/testing'"
   ]
  },
  {
   "cell_type": "code",
   "execution_count": 5,
   "metadata": {},
   "outputs": [],
   "source": [
    "os.chdir(path)"
   ]
  },
  {
   "cell_type": "code",
   "execution_count": 41,
   "metadata": {},
   "outputs": [],
   "source": [
    "run load_functions.py"
   ]
  },
  {
   "cell_type": "code",
   "execution_count": 8,
   "metadata": {},
   "outputs": [],
   "source": [
    "rawdatapath = '/Users/sean/kraken_api_project/tradingproject/results'"
   ]
  },
  {
   "cell_type": "code",
   "execution_count": 9,
   "metadata": {},
   "outputs": [
    {
     "name": "stdout",
     "output_type": "stream",
     "text": [
      "Attempting to import f2020_12_13.py......success\n",
      "Attempting to import f2020_12_12.py......success\n",
      "Attempting to import f2020_12_14.py......success\n"
     ]
    }
   ],
   "source": [
    "rawdata = import_results(rawdatapath)"
   ]
  },
  {
   "cell_type": "code",
   "execution_count": 10,
   "metadata": {},
   "outputs": [
    {
     "name": "stdout",
     "output_type": "stream",
     "text": [
      "<module 'f2020_12_13' from '/Users/sean/kraken_api_project/tradingproject/results/f2020_12_13.py'>\n",
      "<module 'f2020_12_12' from '/Users/sean/kraken_api_project/tradingproject/results/f2020_12_12.py'>\n",
      "<module 'f2020_12_14' from '/Users/sean/kraken_api_project/tradingproject/results/f2020_12_14.py'>\n"
     ]
    }
   ],
   "source": [
    "df = convert_to_dataframe(rawdata)"
   ]
  },
  {
   "cell_type": "code",
   "execution_count": 12,
   "metadata": {},
   "outputs": [],
   "source": [
    "df = df['bid1']"
   ]
  },
  {
   "cell_type": "code",
   "execution_count": 14,
   "metadata": {},
   "outputs": [
    {
     "data": {
      "text/plain": [
       "[<matplotlib.lines.Line2D at 0x1a6f308ef0>]"
      ]
     },
     "execution_count": 14,
     "metadata": {},
     "output_type": "execute_result"
    },
    {
     "data": {
      "image/png": "[encoded data removed]",
      "text/plain": [
       "<Figure size 432x288 with 1 Axes>"
      ]
     },
     "metadata": {
      "needs_background": "light"
     },
     "output_type": "display_data"
    }
   ],
   "source": [
    "plt.plot(df)"
   ]
  },
  {
   "cell_type": "code",
   "execution_count": 20,
   "metadata": {},
   "outputs": [
    {
     "data": {
      "text/plain": [
       "0        18035.4\n",
       "1        18036.5\n",
       "2        18035.3\n",
       "3        18034.5\n",
       "4        18027.5\n",
       "5        18026.6\n",
       "6        18026.4\n",
       "7        18029.8\n",
       "8        18041.0\n",
       "9        18041.0\n",
       "10       18046.9\n",
       "11       18048.2\n",
       "12       18047.4\n",
       "13       18046.5\n",
       "14       18036.7\n",
       "15       18036.5\n",
       "16       18038.9\n",
       "17       18042.4\n",
       "18       18046.5\n",
       "19       18049.0\n",
       "20       18054.0\n",
       "21       18054.1\n",
       "22       18054.1\n",
       "23       18079.3\n",
       "24       18077.1\n",
       "25       18077.1\n",
       "26       18064.0\n",
       "27       18064.0\n",
       "28       18061.6\n",
       "29       18063.4\n",
       "          ...   \n",
       "82896    19281.0\n",
       "82897    19281.0\n",
       "82898    19281.0\n",
       "82899    19281.0\n",
       "82900    19281.0\n",
       "82901    19281.0\n",
       "82902    19281.0\n",
       "82903    19281.0\n",
       "82904    19281.0\n",
       "82905    19281.0\n",
       "82906    19281.0\n",
       "82907    19281.0\n",
       "82908    19281.0\n",
       "82909    19281.0\n",
       "82910    19281.0\n",
       "82911    19281.0\n",
       "82912    19281.0\n",
       "82913    19281.0\n",
       "82914    19281.0\n",
       "82915    19281.0\n",
       "82916    19281.0\n",
       "82917    19281.0\n",
       "82918    19281.0\n",
       "82919    19281.0\n",
       "82920    19281.0\n",
       "82921    19281.0\n",
       "82922    19281.0\n",
       "82923    19281.0\n",
       "82924    19281.0\n",
       "82925    19281.0\n",
       "Name: bid1, Length: 82926, dtype: float64"
      ]
     },
     "execution_count": 20,
     "metadata": {},
     "output_type": "execute_result"
    }
   ],
   "source": [
    "df"
   ]
  },
  {
   "cell_type": "code",
   "execution_count": 17,
   "metadata": {},
   "outputs": [],
   "source": [
    "look_back = 1"
   ]
  },
  {
   "cell_type": "code",
   "execution_count": 42,
   "metadata": {},
   "outputs": [
    {
     "name": "stdout",
     "output_type": "stream",
     "text": [
      "55560 27366\n"
     ]
    }
   ],
   "source": [
    "trainX, trainY, testX, testY, scaler = prepare_data(df, look_back)"
   ]
  },
  {
   "cell_type": "code",
   "execution_count": 21,
   "metadata": {},
   "outputs": [],
   "source": [
    "dataset = df.values"
   ]
  },
  {
   "cell_type": "code",
   "execution_count": 22,
   "metadata": {},
   "outputs": [
    {
     "data": {
      "text/plain": [
       "array([18035.4, 18036.5, 18035.3, ..., 19281. , 19281. , 19281. ])"
      ]
     },
     "execution_count": 22,
     "metadata": {},
     "output_type": "execute_result"
    }
   ],
   "source": [
    "dataset"
   ]
  },
  {
   "cell_type": "code",
   "execution_count": 24,
   "metadata": {},
   "outputs": [
    {
     "data": {
      "text/plain": [
       "(82926,)"
      ]
     },
     "execution_count": 24,
     "metadata": {},
     "output_type": "execute_result"
    }
   ],
   "source": [
    "dataset.shape"
   ]
  },
  {
   "cell_type": "code",
   "execution_count": 27,
   "metadata": {},
   "outputs": [],
   "source": [
    "dataset = dataset.reshape(-1, 1)"
   ]
  },
  {
   "cell_type": "code",
   "execution_count": 28,
   "metadata": {},
   "outputs": [
    {
     "data": {
      "text/plain": [
       "array([[18035.4],\n",
       "       [18036.5],\n",
       "       [18035.3],\n",
       "       ...,\n",
       "       [19281. ],\n",
       "       [19281. ],\n",
       "       [19281. ]])"
      ]
     },
     "execution_count": 28,
     "metadata": {},
     "output_type": "execute_result"
    }
   ],
   "source": [
    "dataset"
   ]
  },
  {
   "cell_type": "code",
   "execution_count": 31,
   "metadata": {},
   "outputs": [],
   "source": [
    "model = Sequential()"
   ]
  },
  {
   "cell_type": "code",
   "execution_count": null,
   "metadata": {},
   "outputs": [],
   "source": []
  },
  {
   "cell_type": "code",
   "execution_count": 32,
   "metadata": {},
   "outputs": [],
   "source": [
    "model.add(LSTM(4, input_shape=(1, look_back)))"
   ]
  },
  {
   "cell_type": "code",
   "execution_count": 33,
   "metadata": {},
   "outputs": [],
   "source": [
    "model.add(Dense(1))"
   ]
  },
  {
   "cell_type": "code",
   "execution_count": 34,
   "metadata": {},
   "outputs": [],
   "source": [
    "model.compile(loss='mean_squared_error', optimizer='adam')"
   ]
  },
  {
   "cell_type": "code",
   "execution_count": 35,
   "metadata": {},
   "outputs": [
    {
     "name": "stdout",
     "output_type": "stream",
     "text": [
      "Epoch 1/100\n",
      "55558/55558 - 62s - loss: 0.0024\n",
      "Epoch 2/100\n",
      "55558/55558 - 61s - loss: 6.9457e-06\n",
      "Epoch 3/100\n",
      "55558/55558 - 60s - loss: 5.3723e-06\n",
      "Epoch 4/100\n",
      "55558/55558 - 58s - loss: 5.0308e-06\n",
      "Epoch 5/100\n",
      "55558/55558 - 58s - loss: 4.9180e-06\n",
      "Epoch 6/100\n",
      "55558/55558 - 58s - loss: 4.9681e-06\n",
      "Epoch 7/100\n",
      "55558/55558 - 58s - loss: 4.8840e-06\n",
      "Epoch 8/100\n",
      "55558/55558 - 58s - loss: 4.7147e-06\n",
      "Epoch 9/100\n",
      "55558/55558 - 58s - loss: 4.7359e-06\n",
      "Epoch 10/100\n",
      "55558/55558 - 58s - loss: 4.6852e-06\n",
      "Epoch 11/100\n",
      "55558/55558 - 58s - loss: 4.6863e-06\n",
      "Epoch 12/100\n",
      "55558/55558 - 59s - loss: 4.6236e-06\n",
      "Epoch 13/100\n",
      "55558/55558 - 58s - loss: 4.6585e-06\n",
      "Epoch 14/100\n",
      "55558/55558 - 59s - loss: 4.5689e-06\n",
      "Epoch 15/100\n",
      "55558/55558 - 58s - loss: 4.6210e-06\n",
      "Epoch 16/100\n",
      "55558/55558 - 58s - loss: 4.6262e-06\n",
      "Epoch 17/100\n",
      "55558/55558 - 58s - loss: 4.6267e-06\n",
      "Epoch 18/100\n",
      "55558/55558 - 59s - loss: 4.4832e-06\n",
      "Epoch 19/100\n",
      "55558/55558 - 58s - loss: 4.5668e-06\n",
      "Epoch 20/100\n",
      "55558/55558 - 58s - loss: 4.5883e-06\n",
      "Epoch 21/100\n",
      "55558/55558 - 58s - loss: 4.5386e-06\n",
      "Epoch 22/100\n",
      "55558/55558 - 58s - loss: 4.5175e-06\n",
      "Epoch 23/100\n",
      "55558/55558 - 58s - loss: 4.5359e-06\n",
      "Epoch 24/100\n",
      "55558/55558 - 58s - loss: 4.5033e-06\n",
      "Epoch 25/100\n",
      "55558/55558 - 58s - loss: 4.4490e-06\n",
      "Epoch 26/100\n",
      "55558/55558 - 58s - loss: 4.5132e-06\n",
      "Epoch 27/100\n",
      "55558/55558 - 58s - loss: 4.4513e-06\n",
      "Epoch 28/100\n",
      "55558/55558 - 58s - loss: 4.4518e-06\n",
      "Epoch 29/100\n",
      "55558/55558 - 58s - loss: 4.4435e-06\n",
      "Epoch 30/100\n",
      "55558/55558 - 58s - loss: 4.3617e-06\n",
      "Epoch 31/100\n",
      "55558/55558 - 58s - loss: 4.4301e-06\n",
      "Epoch 32/100\n",
      "55558/55558 - 58s - loss: 4.4414e-06\n",
      "Epoch 33/100\n",
      "55558/55558 - 58s - loss: 4.3757e-06\n",
      "Epoch 34/100\n",
      "55558/55558 - 58s - loss: 4.4224e-06\n",
      "Epoch 35/100\n",
      "55558/55558 - 58s - loss: 4.4529e-06\n",
      "Epoch 36/100\n",
      "55558/55558 - 58s - loss: 4.4184e-06\n",
      "Epoch 37/100\n",
      "55558/55558 - 58s - loss: 4.3786e-06\n",
      "Epoch 38/100\n",
      "55558/55558 - 58s - loss: 4.3638e-06\n",
      "Epoch 39/100\n",
      "55558/55558 - 58s - loss: 4.3042e-06\n",
      "Epoch 40/100\n",
      "55558/55558 - 58s - loss: 4.3017e-06\n",
      "Epoch 41/100\n",
      "55558/55558 - 58s - loss: 4.2707e-06\n",
      "Epoch 42/100\n",
      "55558/55558 - 58s - loss: 4.2607e-06\n",
      "Epoch 43/100\n",
      "55558/55558 - 58s - loss: 4.3462e-06\n",
      "Epoch 44/100\n",
      "55558/55558 - 58s - loss: 4.2633e-06\n",
      "Epoch 45/100\n",
      "55558/55558 - 58s - loss: 4.2727e-06\n",
      "Epoch 46/100\n",
      "55558/55558 - 58s - loss: 4.1907e-06\n",
      "Epoch 47/100\n",
      "55558/55558 - 58s - loss: 4.2551e-06\n",
      "Epoch 48/100\n",
      "55558/55558 - 58s - loss: 4.2144e-06\n",
      "Epoch 49/100\n",
      "55558/55558 - 58s - loss: 4.2686e-06\n",
      "Epoch 50/100\n",
      "55558/55558 - 58s - loss: 4.1553e-06\n",
      "Epoch 51/100\n",
      "55558/55558 - 58s - loss: 4.1843e-06\n",
      "Epoch 52/100\n",
      "55558/55558 - 58s - loss: 4.1657e-06\n",
      "Epoch 53/100\n",
      "55558/55558 - 58s - loss: 4.1204e-06\n",
      "Epoch 54/100\n",
      "55558/55558 - 58s - loss: 4.1084e-06\n",
      "Epoch 55/100\n",
      "55558/55558 - 58s - loss: 4.1416e-06\n",
      "Epoch 56/100\n",
      "55558/55558 - 58s - loss: 4.0644e-06\n",
      "Epoch 57/100\n",
      "55558/55558 - 58s - loss: 4.0255e-06\n",
      "Epoch 58/100\n",
      "55558/55558 - 59s - loss: 4.0959e-06\n",
      "Epoch 59/100\n",
      "55558/55558 - 58s - loss: 4.0178e-06\n",
      "Epoch 60/100\n",
      "55558/55558 - 58s - loss: 4.0373e-06\n",
      "Epoch 61/100\n",
      "55558/55558 - 58s - loss: 4.0166e-06\n",
      "Epoch 62/100\n",
      "55558/55558 - 58s - loss: 4.0198e-06\n",
      "Epoch 63/100\n",
      "55558/55558 - 58s - loss: 3.9879e-06\n",
      "Epoch 64/100\n",
      "55558/55558 - 58s - loss: 3.9995e-06\n",
      "Epoch 65/100\n",
      "55558/55558 - 58s - loss: 3.9713e-06\n",
      "Epoch 66/100\n",
      "55558/55558 - 58s - loss: 3.9021e-06\n",
      "Epoch 67/100\n",
      "55558/55558 - 58s - loss: 3.9851e-06\n",
      "Epoch 68/100\n",
      "55558/55558 - 58s - loss: 3.9046e-06\n",
      "Epoch 69/100\n",
      "55558/55558 - 58s - loss: 3.8680e-06\n",
      "Epoch 70/100\n",
      "55558/55558 - 58s - loss: 3.8429e-06\n",
      "Epoch 71/100\n",
      "55558/55558 - 58s - loss: 3.8756e-06\n",
      "Epoch 72/100\n",
      "55558/55558 - 58s - loss: 3.8415e-06\n",
      "Epoch 73/100\n",
      "55558/55558 - 58s - loss: 3.8757e-06\n",
      "Epoch 74/100\n",
      "55558/55558 - 59s - loss: 3.8599e-06\n",
      "Epoch 75/100\n",
      "55558/55558 - 59s - loss: 3.8624e-06\n",
      "Epoch 76/100\n",
      "55558/55558 - 61s - loss: 3.7784e-06\n",
      "Epoch 77/100\n",
      "55558/55558 - 60s - loss: 3.7569e-06\n",
      "Epoch 78/100\n",
      "55558/55558 - 60s - loss: 3.8131e-06\n",
      "Epoch 79/100\n",
      "55558/55558 - 61s - loss: 3.8140e-06\n",
      "Epoch 80/100\n",
      "55558/55558 - 60s - loss: 3.8272e-06\n",
      "Epoch 81/100\n",
      "55558/55558 - 60s - loss: 3.7972e-06\n",
      "Epoch 82/100\n",
      "55558/55558 - 60s - loss: 3.7935e-06\n",
      "Epoch 83/100\n",
      "55558/55558 - 58s - loss: 3.7705e-06\n",
      "Epoch 84/100\n",
      "55558/55558 - 58s - loss: 3.7330e-06\n",
      "Epoch 85/100\n",
      "55558/55558 - 58s - loss: 3.7462e-06\n",
      "Epoch 86/100\n",
      "55558/55558 - 58s - loss: 3.7235e-06\n",
      "Epoch 87/100\n",
      "55558/55558 - 58s - loss: 3.7307e-06\n",
      "Epoch 88/100\n",
      "55558/55558 - 58s - loss: 3.7206e-06\n",
      "Epoch 89/100\n",
      "55558/55558 - 60s - loss: 3.6949e-06\n",
      "Epoch 90/100\n",
      "55558/55558 - 58s - loss: 3.7058e-06\n",
      "Epoch 91/100\n",
      "55558/55558 - 58s - loss: 3.7165e-06\n",
      "Epoch 92/100\n",
      "55558/55558 - 59s - loss: 3.7424e-06\n",
      "Epoch 93/100\n",
      "55558/55558 - 58s - loss: 3.6728e-06\n",
      "Epoch 94/100\n",
      "55558/55558 - 59s - loss: 3.7355e-06\n",
      "Epoch 95/100\n",
      "55558/55558 - 58s - loss: 3.6431e-06\n",
      "Epoch 96/100\n",
      "55558/55558 - 59s - loss: 3.6441e-06\n",
      "Epoch 97/100\n",
      "55558/55558 - 58s - loss: 3.6765e-06\n",
      "Epoch 98/100\n",
      "55558/55558 - 58s - loss: 3.6741e-06\n",
      "Epoch 99/100\n",
      "55558/55558 - 58s - loss: 3.6634e-06\n",
      "Epoch 100/100\n",
      "55558/55558 - 59s - loss: 3.6449e-06\n"
     ]
    },
    {
     "data": {
      "text/plain": [
       "<tensorflow.python.keras.callbacks.History at 0x1a6f3a6898>"
      ]
     },
     "execution_count": 35,
     "metadata": {},
     "output_type": "execute_result"
    }
   ],
   "source": [
    "model.fit(trainX, trainY, epochs=100, batch_size=1, verbose=2)"
   ]
  },
  {
   "cell_type": "code",
   "execution_count": 36,
   "metadata": {},
   "outputs": [],
   "source": [
    "trainPredict = model.predict(trainX)"
   ]
  },
  {
   "cell_type": "code",
   "execution_count": 37,
   "metadata": {},
   "outputs": [],
   "source": [
    "testPredict = model.predict(testX)"
   ]
  },
  {
   "cell_type": "code",
   "execution_count": 43,
   "metadata": {},
   "outputs": [],
   "source": [
    "trainPredict = scaler.inverse_transform(trainPredict)\n",
    "trainY = scaler.inverse_transform([trainY])\n",
    "testPredict = scaler.inverse_transform(testPredict)\n",
    "testY = scaler.inverse_transform([testY])"
   ]
  },
  {
   "cell_type": "code",
   "execution_count": 44,
   "metadata": {},
   "outputs": [
    {
     "name": "stdout",
     "output_type": "stream",
     "text": [
      "Train Score: 4.87 RMSE\n"
     ]
    }
   ],
   "source": [
    "trainScore = math.sqrt(mean_squared_error(trainY[0], trainPredict[:,0]))\n",
    "print('Train Score: %.2f RMSE' % (trainScore))"
   ]
  },
  {
   "cell_type": "code",
   "execution_count": 45,
   "metadata": {},
   "outputs": [
    {
     "name": "stdout",
     "output_type": "stream",
     "text": [
      "Test Score: 5.60 RMSE\n"
     ]
    }
   ],
   "source": [
    "testScore = math.sqrt(mean_squared_error(testY[0], testPredict[:,0]))\n",
    "print('Test Score: %.2f RMSE' % (testScore))"
   ]
  },
  {
   "cell_type": "code",
   "execution_count": 46,
   "metadata": {},
   "outputs": [
    {
     "data": {
      "image/png": "[encoded data removed]",
      "text/plain": [
       "<Figure size 432x288 with 1 Axes>"
      ]
     },
     "metadata": {
      "needs_background": "light"
     },
     "output_type": "display_data"
    }
   ],
   "source": [
    "# shift train predictions for plotting\n",
    "trainPredictPlot = numpy.empty_like(dataset)\n",
    "trainPredictPlot[:, :] = numpy.nan\n",
    "trainPredictPlot[look_back:len(trainPredict)+look_back, :] = trainPredict\n",
    "# shift test predictions for plotting\n",
    "testPredictPlot = numpy.empty_like(dataset)\n",
    "testPredictPlot[:, :] = numpy.nan\n",
    "testPredictPlot[len(trainPredict)+(look_back*2)+1:len(dataset)-1, :] = testPredict\n",
    "# plot baseline and predictions\n",
    "plt.plot(scaler.inverse_transform(dataset))\n",
    "plt.plot(trainPredictPlot)\n",
    "plt.plot(testPredictPlot)\n",
    "plt.show()"
   ]
  },
  {
   "cell_type": "code",
   "execution_count": null,
   "metadata": {},
   "outputs": [],
   "source": []
  }
 ],
 "metadata": {
  "kernelspec": {
   "display_name": "Python 3",
   "language": "python",
   "name": "python3"
  },
  "language_info": {
   "codemirror_mode": {
    "name": "ipython",
    "version": 3
   },
   "file_extension": ".py",
   "mimetype": "text/x-python",
   "name": "python",
   "nbconvert_exporter": "python",
   "pygments_lexer": "ipython3",
   "version": "3.7.3"
  }
 },
 "nbformat": 4,
 "nbformat_minor": 2
}
