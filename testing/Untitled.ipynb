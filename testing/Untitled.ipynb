{
 "cells": [
  {
   "cell_type": "code",
   "execution_count": 1,
   "metadata": {},
   "outputs": [
    {
     "ename": "NameError",
     "evalue": "name 'os' is not defined",
     "output_type": "error",
     "traceback": [
      "\u001b[0;31m---------------------------------------------------------------------------\u001b[0m",
      "\u001b[0;31mNameError\u001b[0m                                 Traceback (most recent call last)",
      "\u001b[0;32m<ipython-input-1-a78b1fb2bab9>\u001b[0m in \u001b[0;36m<module>\u001b[0;34m\u001b[0m\n\u001b[0;32m----> 1\u001b[0;31m \u001b[0mos\u001b[0m\u001b[0;34m.\u001b[0m\u001b[0mgetcwd\u001b[0m\u001b[0;34m(\u001b[0m\u001b[0;34m)\u001b[0m\u001b[0;34m\u001b[0m\u001b[0;34m\u001b[0m\u001b[0m\n\u001b[0m",
      "\u001b[0;31mNameError\u001b[0m: name 'os' is not defined"
     ]
    }
   ],
   "source": [
    "os.getcwd()"
   ]
  },
  {
   "cell_type": "code",
   "execution_count": 2,
   "metadata": {},
   "outputs": [],
   "source": [
    "import os"
   ]
  },
  {
   "cell_type": "code",
   "execution_count": 3,
   "metadata": {},
   "outputs": [
    {
     "data": {
      "text/plain": [
       "'/Users/sean/krakenproject/tradingproject/testing'"
      ]
     },
     "execution_count": 3,
     "metadata": {},
     "output_type": "execute_result"
    }
   ],
   "source": [
    "os.getcwd()"
   ]
  },
  {
   "cell_type": "code",
   "execution_count": 4,
   "metadata": {},
   "outputs": [],
   "source": [
    "datapath = '/users/sean/krakenproject/tradingproject/results'"
   ]
  },
  {
   "cell_type": "code",
   "execution_count": 5,
   "metadata": {},
   "outputs": [
    {
     "ename": "SyntaxError",
     "evalue": "invalid syntax (<ipython-input-5-d772db892194>, line 1)",
     "output_type": "error",
     "traceback": [
      "\u001b[0;36m  File \u001b[0;32m\"<ipython-input-5-d772db892194>\"\u001b[0;36m, line \u001b[0;32m1\u001b[0m\n\u001b[0;31m    run import_v2.py\u001b[0m\n\u001b[0m                ^\u001b[0m\n\u001b[0;31mSyntaxError\u001b[0m\u001b[0;31m:\u001b[0m invalid syntax\n"
     ]
    }
   ],
   "source": [
    "run import_v2.py\n",
    "run convert_to_dataframe_v2-1.py"
   ]
  },
  {
   "cell_type": "code",
   "execution_count": 6,
   "metadata": {},
   "outputs": [],
   "source": [
    "run import_v2.py"
   ]
  },
  {
   "cell_type": "code",
   "execution_count": 7,
   "metadata": {},
   "outputs": [],
   "source": [
    "run convert_to_dataframe_v2-1.py"
   ]
  },
  {
   "cell_type": "code",
   "execution_count": 8,
   "metadata": {},
   "outputs": [
    {
     "name": "stdout",
     "output_type": "stream",
     "text": [
      "Attempting to import f2020_12_13.py......success\n",
      "Attempting to import f2020_12_12.py......success\n",
      "Attempting to import f2020_12_14.py......success\n"
     ]
    }
   ],
   "source": [
    "rawdata = import_results(datapath)"
   ]
  },
  {
   "cell_type": "code",
   "execution_count": 9,
   "metadata": {},
   "outputs": [
    {
     "name": "stdout",
     "output_type": "stream",
     "text": [
      "<module 'f2020_12_13' from '/Users/sean/krakenproject/tradingproject/results/f2020_12_13.py'>\n",
      "<module 'f2020_12_12' from '/Users/sean/krakenproject/tradingproject/results/f2020_12_12.py'>\n",
      "<module 'f2020_12_14' from '/Users/sean/krakenproject/tradingproject/results/f2020_12_14.py'>\n"
     ]
    }
   ],
   "source": [
    "df = convert_to_dataframe(rawdata)"
   ]
  },
  {
   "cell_type": "code",
   "execution_count": 10,
   "metadata": {
    "scrolled": true
   },
   "outputs": [
    {
     "data": {
      "text/html": [
       "<div>\n",
       "<style scoped>\n",
       "    .dataframe tbody tr th:only-of-type {\n",
       "        vertical-align: middle;\n",
       "    }\n",
       "\n",
       "    .dataframe tbody tr th {\n",
       "        vertical-align: top;\n",
       "    }\n",
       "\n",
       "    .dataframe thead th {\n",
       "        text-align: right;\n",
       "    }\n",
       "</style>\n",
       "<table border=\"1\" class=\"dataframe\">\n",
       "  <thead>\n",
       "    <tr style=\"text-align: right;\">\n",
       "      <th></th>\n",
       "      <th>Datetime</th>\n",
       "      <th>Error</th>\n",
       "      <th>ErrorInfo</th>\n",
       "      <th>bid1</th>\n",
       "      <th>bid2</th>\n",
       "      <th>bid3</th>\n",
       "      <th>bid1v</th>\n",
       "      <th>bid2v</th>\n",
       "      <th>bid3v</th>\n",
       "      <th>ask1</th>\n",
       "      <th>ask2</th>\n",
       "      <th>ask3</th>\n",
       "      <th>ask1v</th>\n",
       "      <th>ask2v</th>\n",
       "      <th>ask3v</th>\n",
       "    </tr>\n",
       "  </thead>\n",
       "  <tbody>\n",
       "    <tr>\n",
       "      <td>0</td>\n",
       "      <td>2020-12-12 00:00:02</td>\n",
       "      <td>False</td>\n",
       "      <td>NaN</td>\n",
       "      <td>18035.4</td>\n",
       "      <td>18035.1</td>\n",
       "      <td>18032.4</td>\n",
       "      <td>5.088</td>\n",
       "      <td>0.093</td>\n",
       "      <td>5.900</td>\n",
       "      <td>18037.1</td>\n",
       "      <td>18037.2</td>\n",
       "      <td>18038.3</td>\n",
       "      <td>0.055</td>\n",
       "      <td>1.000</td>\n",
       "      <td>0.125</td>\n",
       "    </tr>\n",
       "    <tr>\n",
       "      <td>1</td>\n",
       "      <td>2020-12-12 00:00:05</td>\n",
       "      <td>False</td>\n",
       "      <td>NaN</td>\n",
       "      <td>18036.5</td>\n",
       "      <td>18033.9</td>\n",
       "      <td>18030.7</td>\n",
       "      <td>0.350</td>\n",
       "      <td>2.218</td>\n",
       "      <td>0.670</td>\n",
       "      <td>18036.6</td>\n",
       "      <td>18037.9</td>\n",
       "      <td>18038.3</td>\n",
       "      <td>3.727</td>\n",
       "      <td>0.051</td>\n",
       "      <td>2.125</td>\n",
       "    </tr>\n",
       "    <tr>\n",
       "      <td>2</td>\n",
       "      <td>2020-12-12 00:00:08</td>\n",
       "      <td>False</td>\n",
       "      <td>NaN</td>\n",
       "      <td>18035.3</td>\n",
       "      <td>18034.6</td>\n",
       "      <td>18034.5</td>\n",
       "      <td>2.000</td>\n",
       "      <td>0.113</td>\n",
       "      <td>0.072</td>\n",
       "      <td>18036.6</td>\n",
       "      <td>18038.3</td>\n",
       "      <td>18040.3</td>\n",
       "      <td>0.133</td>\n",
       "      <td>2.000</td>\n",
       "      <td>0.416</td>\n",
       "    </tr>\n",
       "    <tr>\n",
       "      <td>3</td>\n",
       "      <td>2020-12-12 00:00:11</td>\n",
       "      <td>False</td>\n",
       "      <td>NaN</td>\n",
       "      <td>18034.5</td>\n",
       "      <td>18034.4</td>\n",
       "      <td>18030.5</td>\n",
       "      <td>0.048</td>\n",
       "      <td>1.375</td>\n",
       "      <td>2.219</td>\n",
       "      <td>18041.2</td>\n",
       "      <td>18041.3</td>\n",
       "      <td>18041.9</td>\n",
       "      <td>4.265</td>\n",
       "      <td>9.221</td>\n",
       "      <td>0.049</td>\n",
       "    </tr>\n",
       "    <tr>\n",
       "      <td>4</td>\n",
       "      <td>2020-12-12 00:00:14</td>\n",
       "      <td>False</td>\n",
       "      <td>NaN</td>\n",
       "      <td>18027.5</td>\n",
       "      <td>18027.3</td>\n",
       "      <td>18024.4</td>\n",
       "      <td>0.002</td>\n",
       "      <td>2.219</td>\n",
       "      <td>0.040</td>\n",
       "      <td>18034.6</td>\n",
       "      <td>18034.7</td>\n",
       "      <td>18036.5</td>\n",
       "      <td>7.322</td>\n",
       "      <td>2.000</td>\n",
       "      <td>0.133</td>\n",
       "    </tr>\n",
       "    <tr>\n",
       "      <td>...</td>\n",
       "      <td>...</td>\n",
       "      <td>...</td>\n",
       "      <td>...</td>\n",
       "      <td>...</td>\n",
       "      <td>...</td>\n",
       "      <td>...</td>\n",
       "      <td>...</td>\n",
       "      <td>...</td>\n",
       "      <td>...</td>\n",
       "      <td>...</td>\n",
       "      <td>...</td>\n",
       "      <td>...</td>\n",
       "      <td>...</td>\n",
       "      <td>...</td>\n",
       "      <td>...</td>\n",
       "    </tr>\n",
       "    <tr>\n",
       "      <td>83061</td>\n",
       "      <td>NaT</td>\n",
       "      <td>True</td>\n",
       "      <td>172043.0</td>\n",
       "      <td>NaN</td>\n",
       "      <td>NaN</td>\n",
       "      <td>NaN</td>\n",
       "      <td>NaN</td>\n",
       "      <td>NaN</td>\n",
       "      <td>NaN</td>\n",
       "      <td>NaN</td>\n",
       "      <td>NaN</td>\n",
       "      <td>NaN</td>\n",
       "      <td>NaN</td>\n",
       "      <td>NaN</td>\n",
       "      <td>NaN</td>\n",
       "    </tr>\n",
       "    <tr>\n",
       "      <td>83062</td>\n",
       "      <td>NaT</td>\n",
       "      <td>True</td>\n",
       "      <td>230502.0</td>\n",
       "      <td>NaN</td>\n",
       "      <td>NaN</td>\n",
       "      <td>NaN</td>\n",
       "      <td>NaN</td>\n",
       "      <td>NaN</td>\n",
       "      <td>NaN</td>\n",
       "      <td>NaN</td>\n",
       "      <td>NaN</td>\n",
       "      <td>NaN</td>\n",
       "      <td>NaN</td>\n",
       "      <td>NaN</td>\n",
       "      <td>NaN</td>\n",
       "    </tr>\n",
       "    <tr>\n",
       "      <td>83063</td>\n",
       "      <td>NaT</td>\n",
       "      <td>True</td>\n",
       "      <td>230502.0</td>\n",
       "      <td>NaN</td>\n",
       "      <td>NaN</td>\n",
       "      <td>NaN</td>\n",
       "      <td>NaN</td>\n",
       "      <td>NaN</td>\n",
       "      <td>NaN</td>\n",
       "      <td>NaN</td>\n",
       "      <td>NaN</td>\n",
       "      <td>NaN</td>\n",
       "      <td>NaN</td>\n",
       "      <td>NaN</td>\n",
       "      <td>NaN</td>\n",
       "    </tr>\n",
       "    <tr>\n",
       "      <td>83064</td>\n",
       "      <td>NaT</td>\n",
       "      <td>True</td>\n",
       "      <td>230502.0</td>\n",
       "      <td>NaN</td>\n",
       "      <td>NaN</td>\n",
       "      <td>NaN</td>\n",
       "      <td>NaN</td>\n",
       "      <td>NaN</td>\n",
       "      <td>NaN</td>\n",
       "      <td>NaN</td>\n",
       "      <td>NaN</td>\n",
       "      <td>NaN</td>\n",
       "      <td>NaN</td>\n",
       "      <td>NaN</td>\n",
       "      <td>NaN</td>\n",
       "    </tr>\n",
       "    <tr>\n",
       "      <td>83065</td>\n",
       "      <td>NaT</td>\n",
       "      <td>True</td>\n",
       "      <td>230523.0</td>\n",
       "      <td>NaN</td>\n",
       "      <td>NaN</td>\n",
       "      <td>NaN</td>\n",
       "      <td>NaN</td>\n",
       "      <td>NaN</td>\n",
       "      <td>NaN</td>\n",
       "      <td>NaN</td>\n",
       "      <td>NaN</td>\n",
       "      <td>NaN</td>\n",
       "      <td>NaN</td>\n",
       "      <td>NaN</td>\n",
       "      <td>NaN</td>\n",
       "    </tr>\n",
       "  </tbody>\n",
       "</table>\n",
       "<p>83066 rows × 15 columns</p>\n",
       "</div>"
      ],
      "text/plain": [
       "                 Datetime  Error  ErrorInfo     bid1     bid2     bid3  bid1v  \\\n",
       "0     2020-12-12 00:00:02  False        NaN  18035.4  18035.1  18032.4  5.088   \n",
       "1     2020-12-12 00:00:05  False        NaN  18036.5  18033.9  18030.7  0.350   \n",
       "2     2020-12-12 00:00:08  False        NaN  18035.3  18034.6  18034.5  2.000   \n",
       "3     2020-12-12 00:00:11  False        NaN  18034.5  18034.4  18030.5  0.048   \n",
       "4     2020-12-12 00:00:14  False        NaN  18027.5  18027.3  18024.4  0.002   \n",
       "...                   ...    ...        ...      ...      ...      ...    ...   \n",
       "83061                 NaT   True   172043.0      NaN      NaN      NaN    NaN   \n",
       "83062                 NaT   True   230502.0      NaN      NaN      NaN    NaN   \n",
       "83063                 NaT   True   230502.0      NaN      NaN      NaN    NaN   \n",
       "83064                 NaT   True   230502.0      NaN      NaN      NaN    NaN   \n",
       "83065                 NaT   True   230523.0      NaN      NaN      NaN    NaN   \n",
       "\n",
       "       bid2v  bid3v     ask1     ask2     ask3  ask1v  ask2v  ask3v  \n",
       "0      0.093  5.900  18037.1  18037.2  18038.3  0.055  1.000  0.125  \n",
       "1      2.218  0.670  18036.6  18037.9  18038.3  3.727  0.051  2.125  \n",
       "2      0.113  0.072  18036.6  18038.3  18040.3  0.133  2.000  0.416  \n",
       "3      1.375  2.219  18041.2  18041.3  18041.9  4.265  9.221  0.049  \n",
       "4      2.219  0.040  18034.6  18034.7  18036.5  7.322  2.000  0.133  \n",
       "...      ...    ...      ...      ...      ...    ...    ...    ...  \n",
       "83061    NaN    NaN      NaN      NaN      NaN    NaN    NaN    NaN  \n",
       "83062    NaN    NaN      NaN      NaN      NaN    NaN    NaN    NaN  \n",
       "83063    NaN    NaN      NaN      NaN      NaN    NaN    NaN    NaN  \n",
       "83064    NaN    NaN      NaN      NaN      NaN    NaN    NaN    NaN  \n",
       "83065    NaN    NaN      NaN      NaN      NaN    NaN    NaN    NaN  \n",
       "\n",
       "[83066 rows x 15 columns]"
      ]
     },
     "execution_count": 10,
     "metadata": {},
     "output_type": "execute_result"
    }
   ],
   "source": [
    "df"
   ]
  },
  {
   "cell_type": "code",
   "execution_count": 11,
   "metadata": {},
   "outputs": [],
   "source": [
    "x = df.loc[0:7][\"Datetime\"]\n",
    "y = df.loc[0:7][\"bid1\"]"
   ]
  },
  {
   "cell_type": "code",
   "execution_count": 12,
   "metadata": {},
   "outputs": [],
   "source": [
    "from matplotlib import pyplot as plt\n",
    "from matplotlib import dates as mpl_dates"
   ]
  },
  {
   "cell_type": "code",
   "execution_count": 13,
   "metadata": {},
   "outputs": [],
   "source": [
    "plt.style.use('seaborn')"
   ]
  },
  {
   "cell_type": "code",
   "execution_count": 15,
   "metadata": {},
   "outputs": [],
   "source": [
    "from pandas.plotting import register_matplotlib_converters"
   ]
  },
  {
   "cell_type": "code",
   "execution_count": 16,
   "metadata": {},
   "outputs": [],
   "source": [
    "register_matplotlib_converters()"
   ]
  },
  {
   "cell_type": "markdown",
   "metadata": {},
   "source": [
    "plt.plot_date(x, y)"
   ]
  },
  {
   "cell_type": "code",
   "execution_count": 17,
   "metadata": {},
   "outputs": [
    {
     "data": {
      "text/plain": [
       "[<matplotlib.lines.Line2D at 0x7faee8bda990>]"
      ]
     },
     "execution_count": 17,
     "metadata": {},
     "output_type": "execute_result"
    },
    {
     "data": {
      "image/png": "[encoded data removed]",
      "text/plain": [
       "<Figure size 576x396 with 1 Axes>"
      ]
     },
     "metadata": {},
     "output_type": "display_data"
    }
   ],
   "source": [
    "plt.plot_date(x, y)"
   ]
  },
  {
   "cell_type": "code",
   "execution_count": 18,
   "metadata": {},
   "outputs": [
    {
     "data": {
      "text/plain": [
       "0    18035.4\n",
       "1    18036.5\n",
       "2    18035.3\n",
       "3    18034.5\n",
       "4    18027.5\n",
       "5    18026.6\n",
       "6    18026.4\n",
       "7    18029.8\n",
       "Name: bid1, dtype: float64"
      ]
     },
     "execution_count": 18,
     "metadata": {},
     "output_type": "execute_result"
    }
   ],
   "source": [
    "y"
   ]
  },
  {
   "cell_type": "code",
   "execution_count": 19,
   "metadata": {},
   "outputs": [
    {
     "data": {
      "text/plain": [
       "(83066, 15)"
      ]
     },
     "execution_count": 19,
     "metadata": {},
     "output_type": "execute_result"
    }
   ],
   "source": [
    "df.shape"
   ]
  },
  {
   "cell_type": "code",
   "execution_count": 21,
   "metadata": {},
   "outputs": [],
   "source": [
    "new_df = df[df[\"Error\"] == False]"
   ]
  },
  {
   "cell_type": "code",
   "execution_count": 22,
   "metadata": {},
   "outputs": [
    {
     "data": {
      "text/plain": [
       "(82926, 15)"
      ]
     },
     "execution_count": 22,
     "metadata": {},
     "output_type": "execute_result"
    }
   ],
   "source": [
    "new_df.shape"
   ]
  },
  {
   "cell_type": "code",
   "execution_count": 23,
   "metadata": {},
   "outputs": [],
   "source": [
    "errors_df = df[df[\"Error\"] == True]"
   ]
  },
  {
   "cell_type": "code",
   "execution_count": 24,
   "metadata": {},
   "outputs": [
    {
     "data": {
      "text/plain": [
       "(140, 15)"
      ]
     },
     "execution_count": 24,
     "metadata": {},
     "output_type": "execute_result"
    }
   ],
   "source": [
    "errors_df.shape"
   ]
  },
  {
   "cell_type": "code",
   "execution_count": 26,
   "metadata": {},
   "outputs": [
    {
     "data": {
      "text/html": [
       "<div>\n",
       "<style scoped>\n",
       "    .dataframe tbody tr th:only-of-type {\n",
       "        vertical-align: middle;\n",
       "    }\n",
       "\n",
       "    .dataframe tbody tr th {\n",
       "        vertical-align: top;\n",
       "    }\n",
       "\n",
       "    .dataframe thead th {\n",
       "        text-align: right;\n",
       "    }\n",
       "</style>\n",
       "<table border=\"1\" class=\"dataframe\">\n",
       "  <thead>\n",
       "    <tr style=\"text-align: right;\">\n",
       "      <th></th>\n",
       "      <th>Datetime</th>\n",
       "      <th>Error</th>\n",
       "      <th>ErrorInfo</th>\n",
       "      <th>bid1</th>\n",
       "      <th>bid2</th>\n",
       "      <th>bid3</th>\n",
       "      <th>bid1v</th>\n",
       "      <th>bid2v</th>\n",
       "      <th>bid3v</th>\n",
       "      <th>ask1</th>\n",
       "      <th>ask2</th>\n",
       "      <th>ask3</th>\n",
       "      <th>ask1v</th>\n",
       "      <th>ask2v</th>\n",
       "      <th>ask3v</th>\n",
       "    </tr>\n",
       "  </thead>\n",
       "  <tbody>\n",
       "    <tr>\n",
       "      <td>0</td>\n",
       "      <td>2020-12-12 00:00:02</td>\n",
       "      <td>False</td>\n",
       "      <td>NaN</td>\n",
       "      <td>18035.4</td>\n",
       "      <td>18035.1</td>\n",
       "      <td>18032.4</td>\n",
       "      <td>5.088</td>\n",
       "      <td>0.093</td>\n",
       "      <td>5.900</td>\n",
       "      <td>18037.1</td>\n",
       "      <td>18037.2</td>\n",
       "      <td>18038.3</td>\n",
       "      <td>0.055</td>\n",
       "      <td>1.000</td>\n",
       "      <td>0.125</td>\n",
       "    </tr>\n",
       "    <tr>\n",
       "      <td>1</td>\n",
       "      <td>2020-12-12 00:00:05</td>\n",
       "      <td>False</td>\n",
       "      <td>NaN</td>\n",
       "      <td>18036.5</td>\n",
       "      <td>18033.9</td>\n",
       "      <td>18030.7</td>\n",
       "      <td>0.350</td>\n",
       "      <td>2.218</td>\n",
       "      <td>0.670</td>\n",
       "      <td>18036.6</td>\n",
       "      <td>18037.9</td>\n",
       "      <td>18038.3</td>\n",
       "      <td>3.727</td>\n",
       "      <td>0.051</td>\n",
       "      <td>2.125</td>\n",
       "    </tr>\n",
       "    <tr>\n",
       "      <td>2</td>\n",
       "      <td>2020-12-12 00:00:08</td>\n",
       "      <td>False</td>\n",
       "      <td>NaN</td>\n",
       "      <td>18035.3</td>\n",
       "      <td>18034.6</td>\n",
       "      <td>18034.5</td>\n",
       "      <td>2.000</td>\n",
       "      <td>0.113</td>\n",
       "      <td>0.072</td>\n",
       "      <td>18036.6</td>\n",
       "      <td>18038.3</td>\n",
       "      <td>18040.3</td>\n",
       "      <td>0.133</td>\n",
       "      <td>2.000</td>\n",
       "      <td>0.416</td>\n",
       "    </tr>\n",
       "    <tr>\n",
       "      <td>3</td>\n",
       "      <td>2020-12-12 00:00:11</td>\n",
       "      <td>False</td>\n",
       "      <td>NaN</td>\n",
       "      <td>18034.5</td>\n",
       "      <td>18034.4</td>\n",
       "      <td>18030.5</td>\n",
       "      <td>0.048</td>\n",
       "      <td>1.375</td>\n",
       "      <td>2.219</td>\n",
       "      <td>18041.2</td>\n",
       "      <td>18041.3</td>\n",
       "      <td>18041.9</td>\n",
       "      <td>4.265</td>\n",
       "      <td>9.221</td>\n",
       "      <td>0.049</td>\n",
       "    </tr>\n",
       "    <tr>\n",
       "      <td>4</td>\n",
       "      <td>2020-12-12 00:00:14</td>\n",
       "      <td>False</td>\n",
       "      <td>NaN</td>\n",
       "      <td>18027.5</td>\n",
       "      <td>18027.3</td>\n",
       "      <td>18024.4</td>\n",
       "      <td>0.002</td>\n",
       "      <td>2.219</td>\n",
       "      <td>0.040</td>\n",
       "      <td>18034.6</td>\n",
       "      <td>18034.7</td>\n",
       "      <td>18036.5</td>\n",
       "      <td>7.322</td>\n",
       "      <td>2.000</td>\n",
       "      <td>0.133</td>\n",
       "    </tr>\n",
       "    <tr>\n",
       "      <td>...</td>\n",
       "      <td>...</td>\n",
       "      <td>...</td>\n",
       "      <td>...</td>\n",
       "      <td>...</td>\n",
       "      <td>...</td>\n",
       "      <td>...</td>\n",
       "      <td>...</td>\n",
       "      <td>...</td>\n",
       "      <td>...</td>\n",
       "      <td>...</td>\n",
       "      <td>...</td>\n",
       "      <td>...</td>\n",
       "      <td>...</td>\n",
       "      <td>...</td>\n",
       "      <td>...</td>\n",
       "    </tr>\n",
       "    <tr>\n",
       "      <td>82921</td>\n",
       "      <td>2020-12-14 23:59:46</td>\n",
       "      <td>False</td>\n",
       "      <td>NaN</td>\n",
       "      <td>19281.0</td>\n",
       "      <td>19280.9</td>\n",
       "      <td>19269.5</td>\n",
       "      <td>1.971</td>\n",
       "      <td>0.070</td>\n",
       "      <td>0.756</td>\n",
       "      <td>19281.1</td>\n",
       "      <td>19281.2</td>\n",
       "      <td>19281.3</td>\n",
       "      <td>15.323</td>\n",
       "      <td>2.498</td>\n",
       "      <td>2.076</td>\n",
       "    </tr>\n",
       "    <tr>\n",
       "      <td>82922</td>\n",
       "      <td>2020-12-14 23:59:49</td>\n",
       "      <td>False</td>\n",
       "      <td>NaN</td>\n",
       "      <td>19281.0</td>\n",
       "      <td>19280.9</td>\n",
       "      <td>19269.5</td>\n",
       "      <td>1.970</td>\n",
       "      <td>0.070</td>\n",
       "      <td>0.756</td>\n",
       "      <td>19281.1</td>\n",
       "      <td>19281.2</td>\n",
       "      <td>19281.3</td>\n",
       "      <td>15.301</td>\n",
       "      <td>2.498</td>\n",
       "      <td>2.076</td>\n",
       "    </tr>\n",
       "    <tr>\n",
       "      <td>82923</td>\n",
       "      <td>2020-12-14 23:59:52</td>\n",
       "      <td>False</td>\n",
       "      <td>NaN</td>\n",
       "      <td>19281.0</td>\n",
       "      <td>19280.9</td>\n",
       "      <td>19269.2</td>\n",
       "      <td>1.968</td>\n",
       "      <td>0.070</td>\n",
       "      <td>1.455</td>\n",
       "      <td>19281.1</td>\n",
       "      <td>19281.2</td>\n",
       "      <td>19281.3</td>\n",
       "      <td>15.375</td>\n",
       "      <td>2.498</td>\n",
       "      <td>2.076</td>\n",
       "    </tr>\n",
       "    <tr>\n",
       "      <td>82924</td>\n",
       "      <td>2020-12-14 23:59:55</td>\n",
       "      <td>False</td>\n",
       "      <td>NaN</td>\n",
       "      <td>19281.0</td>\n",
       "      <td>19280.9</td>\n",
       "      <td>19269.2</td>\n",
       "      <td>1.968</td>\n",
       "      <td>0.070</td>\n",
       "      <td>1.455</td>\n",
       "      <td>19281.1</td>\n",
       "      <td>19281.2</td>\n",
       "      <td>19281.3</td>\n",
       "      <td>15.623</td>\n",
       "      <td>2.498</td>\n",
       "      <td>2.076</td>\n",
       "    </tr>\n",
       "    <tr>\n",
       "      <td>82925</td>\n",
       "      <td>2020-12-14 23:59:58</td>\n",
       "      <td>False</td>\n",
       "      <td>NaN</td>\n",
       "      <td>19281.0</td>\n",
       "      <td>19280.9</td>\n",
       "      <td>19269.2</td>\n",
       "      <td>1.968</td>\n",
       "      <td>0.070</td>\n",
       "      <td>1.455</td>\n",
       "      <td>19281.1</td>\n",
       "      <td>19281.2</td>\n",
       "      <td>19281.3</td>\n",
       "      <td>15.623</td>\n",
       "      <td>2.498</td>\n",
       "      <td>2.076</td>\n",
       "    </tr>\n",
       "  </tbody>\n",
       "</table>\n",
       "<p>82926 rows × 15 columns</p>\n",
       "</div>"
      ],
      "text/plain": [
       "                 Datetime  Error  ErrorInfo     bid1     bid2     bid3  bid1v  \\\n",
       "0     2020-12-12 00:00:02  False        NaN  18035.4  18035.1  18032.4  5.088   \n",
       "1     2020-12-12 00:00:05  False        NaN  18036.5  18033.9  18030.7  0.350   \n",
       "2     2020-12-12 00:00:08  False        NaN  18035.3  18034.6  18034.5  2.000   \n",
       "3     2020-12-12 00:00:11  False        NaN  18034.5  18034.4  18030.5  0.048   \n",
       "4     2020-12-12 00:00:14  False        NaN  18027.5  18027.3  18024.4  0.002   \n",
       "...                   ...    ...        ...      ...      ...      ...    ...   \n",
       "82921 2020-12-14 23:59:46  False        NaN  19281.0  19280.9  19269.5  1.971   \n",
       "82922 2020-12-14 23:59:49  False        NaN  19281.0  19280.9  19269.5  1.970   \n",
       "82923 2020-12-14 23:59:52  False        NaN  19281.0  19280.9  19269.2  1.968   \n",
       "82924 2020-12-14 23:59:55  False        NaN  19281.0  19280.9  19269.2  1.968   \n",
       "82925 2020-12-14 23:59:58  False        NaN  19281.0  19280.9  19269.2  1.968   \n",
       "\n",
       "       bid2v  bid3v     ask1     ask2     ask3   ask1v  ask2v  ask3v  \n",
       "0      0.093  5.900  18037.1  18037.2  18038.3   0.055  1.000  0.125  \n",
       "1      2.218  0.670  18036.6  18037.9  18038.3   3.727  0.051  2.125  \n",
       "2      0.113  0.072  18036.6  18038.3  18040.3   0.133  2.000  0.416  \n",
       "3      1.375  2.219  18041.2  18041.3  18041.9   4.265  9.221  0.049  \n",
       "4      2.219  0.040  18034.6  18034.7  18036.5   7.322  2.000  0.133  \n",
       "...      ...    ...      ...      ...      ...     ...    ...    ...  \n",
       "82921  0.070  0.756  19281.1  19281.2  19281.3  15.323  2.498  2.076  \n",
       "82922  0.070  0.756  19281.1  19281.2  19281.3  15.301  2.498  2.076  \n",
       "82923  0.070  1.455  19281.1  19281.2  19281.3  15.375  2.498  2.076  \n",
       "82924  0.070  1.455  19281.1  19281.2  19281.3  15.623  2.498  2.076  \n",
       "82925  0.070  1.455  19281.1  19281.2  19281.3  15.623  2.498  2.076  \n",
       "\n",
       "[82926 rows x 15 columns]"
      ]
     },
     "execution_count": 26,
     "metadata": {},
     "output_type": "execute_result"
    }
   ],
   "source": [
    "new_df"
   ]
  },
  {
   "cell_type": "code",
   "execution_count": 62,
   "metadata": {},
   "outputs": [],
   "source": [
    "x = new_df[\"Datetime\"]\n",
    "y1 = new_df[\"bid3\"]\n",
    "y2 = new_df[\"ask3\"]"
   ]
  },
  {
   "cell_type": "code",
   "execution_count": 64,
   "metadata": {},
   "outputs": [],
   "source": [
    "z1 = new_df[\"bid1v\"]\n",
    "z2 = new_df[\"ask1v\"]"
   ]
  },
  {
   "cell_type": "code",
   "execution_count": 63,
   "metadata": {},
   "outputs": [
    {
     "data": {
      "text/plain": [
       "[<matplotlib.lines.Line2D at 0x7faf2b15a110>,\n",
       " <matplotlib.lines.Line2D at 0x7faf2b17d050>]"
      ]
     },
     "execution_count": 63,
     "metadata": {},
     "output_type": "execute_result"
    },
    {
     "data": {
      "image/png": "[encoded data removed]",
      "text/plain": [
       "<Figure size 576x396 with 1 Axes>"
      ]
     },
     "metadata": {},
     "output_type": "display_data"
    }
   ],
   "source": [
    "plt.ylabel('$')\n",
    "plt.xlabel('date')\n",
    "plt.plot(x, y1, 'g-', x, y2, 'b-')"
   ]
  },
  {
   "cell_type": "code",
   "execution_count": 48,
   "metadata": {},
   "outputs": [
    {
     "data": {
      "text/plain": [
       "0       2020-12-12 00:00:02\n",
       "1       2020-12-12 00:00:05\n",
       "2       2020-12-12 00:00:08\n",
       "3       2020-12-12 00:00:11\n",
       "4       2020-12-12 00:00:14\n",
       "                ...        \n",
       "82921   2020-12-14 23:59:46\n",
       "82922   2020-12-14 23:59:49\n",
       "82923   2020-12-14 23:59:52\n",
       "82924   2020-12-14 23:59:55\n",
       "82925   2020-12-14 23:59:58\n",
       "Name: Datetime, Length: 82926, dtype: datetime64[ns]"
      ]
     },
     "execution_count": 48,
     "metadata": {},
     "output_type": "execute_result"
    }
   ],
   "source": [
    "new_df[\"Datetime\"]"
   ]
  },
  {
   "cell_type": "code",
   "execution_count": 65,
   "metadata": {},
   "outputs": [
    {
     "data": {
      "text/plain": [
       "[<matplotlib.lines.Line2D at 0x7faf3acd5950>,\n",
       " <matplotlib.lines.Line2D at 0x7faf3acf25d0>]"
      ]
     },
     "execution_count": 65,
     "metadata": {},
     "output_type": "execute_result"
    },
    {
     "data": {
      "image/png": "[encoded data removed]",
      "text/plain": [
       "<Figure size 576x396 with 1 Axes>"
      ]
     },
     "metadata": {},
     "output_type": "display_data"
    }
   ],
   "source": [
    "plt.ylabel('Volume')\n",
    "plt.xlabel('date')\n",
    "plt.plot(x, z1, 'g-', x, z2, 'b-')"
   ]
  },
  {
   "cell_type": "code",
   "execution_count": 66,
   "metadata": {},
   "outputs": [
    {
     "data": {
      "text/html": [
       "<div>\n",
       "<style scoped>\n",
       "    .dataframe tbody tr th:only-of-type {\n",
       "        vertical-align: middle;\n",
       "    }\n",
       "\n",
       "    .dataframe tbody tr th {\n",
       "        vertical-align: top;\n",
       "    }\n",
       "\n",
       "    .dataframe thead th {\n",
       "        text-align: right;\n",
       "    }\n",
       "</style>\n",
       "<table border=\"1\" class=\"dataframe\">\n",
       "  <thead>\n",
       "    <tr style=\"text-align: right;\">\n",
       "      <th></th>\n",
       "      <th>ErrorInfo</th>\n",
       "      <th>bid1</th>\n",
       "      <th>bid2</th>\n",
       "      <th>bid3</th>\n",
       "      <th>bid1v</th>\n",
       "      <th>bid2v</th>\n",
       "      <th>bid3v</th>\n",
       "      <th>ask1</th>\n",
       "      <th>ask2</th>\n",
       "      <th>ask3</th>\n",
       "      <th>ask1v</th>\n",
       "      <th>ask2v</th>\n",
       "      <th>ask3v</th>\n",
       "    </tr>\n",
       "  </thead>\n",
       "  <tbody>\n",
       "    <tr>\n",
       "      <td>count</td>\n",
       "      <td>0.0</td>\n",
       "      <td>82926.000000</td>\n",
       "      <td>82926.000000</td>\n",
       "      <td>82926.000000</td>\n",
       "      <td>82926.000000</td>\n",
       "      <td>82926.000000</td>\n",
       "      <td>82926.000000</td>\n",
       "      <td>82926.000000</td>\n",
       "      <td>82926.000000</td>\n",
       "      <td>82926.000000</td>\n",
       "      <td>82926.000000</td>\n",
       "      <td>82926.000000</td>\n",
       "      <td>82926.000000</td>\n",
       "    </tr>\n",
       "    <tr>\n",
       "      <td>mean</td>\n",
       "      <td>NaN</td>\n",
       "      <td>18917.015109</td>\n",
       "      <td>18915.823089</td>\n",
       "      <td>18914.742765</td>\n",
       "      <td>2.426229</td>\n",
       "      <td>0.969280</td>\n",
       "      <td>1.071887</td>\n",
       "      <td>18917.572221</td>\n",
       "      <td>18918.631020</td>\n",
       "      <td>18919.427496</td>\n",
       "      <td>2.777842</td>\n",
       "      <td>1.135211</td>\n",
       "      <td>1.149147</td>\n",
       "    </tr>\n",
       "    <tr>\n",
       "      <td>std</td>\n",
       "      <td>NaN</td>\n",
       "      <td>352.825154</td>\n",
       "      <td>352.842477</td>\n",
       "      <td>352.745737</td>\n",
       "      <td>4.560663</td>\n",
       "      <td>2.468317</td>\n",
       "      <td>2.373934</td>\n",
       "      <td>352.893822</td>\n",
       "      <td>352.848229</td>\n",
       "      <td>352.844108</td>\n",
       "      <td>4.188375</td>\n",
       "      <td>2.002486</td>\n",
       "      <td>1.610711</td>\n",
       "    </tr>\n",
       "    <tr>\n",
       "      <td>min</td>\n",
       "      <td>NaN</td>\n",
       "      <td>18026.400000</td>\n",
       "      <td>18024.600000</td>\n",
       "      <td>18024.400000</td>\n",
       "      <td>0.001000</td>\n",
       "      <td>0.001000</td>\n",
       "      <td>0.001000</td>\n",
       "      <td>18027.600000</td>\n",
       "      <td>18031.800000</td>\n",
       "      <td>18032.700000</td>\n",
       "      <td>0.001000</td>\n",
       "      <td>0.001000</td>\n",
       "      <td>0.001000</td>\n",
       "    </tr>\n",
       "    <tr>\n",
       "      <td>25%</td>\n",
       "      <td>NaN</td>\n",
       "      <td>18581.800000</td>\n",
       "      <td>18581.500000</td>\n",
       "      <td>18576.925000</td>\n",
       "      <td>0.133000</td>\n",
       "      <td>0.092000</td>\n",
       "      <td>0.133000</td>\n",
       "      <td>18583.100000</td>\n",
       "      <td>18585.100000</td>\n",
       "      <td>18586.000000</td>\n",
       "      <td>0.199000</td>\n",
       "      <td>0.100000</td>\n",
       "      <td>0.100000</td>\n",
       "    </tr>\n",
       "    <tr>\n",
       "      <td>50%</td>\n",
       "      <td>NaN</td>\n",
       "      <td>19091.500000</td>\n",
       "      <td>19090.700000</td>\n",
       "      <td>19090.000000</td>\n",
       "      <td>0.615000</td>\n",
       "      <td>0.345000</td>\n",
       "      <td>0.651000</td>\n",
       "      <td>19092.500000</td>\n",
       "      <td>19093.800000</td>\n",
       "      <td>19094.600000</td>\n",
       "      <td>1.290500</td>\n",
       "      <td>0.789000</td>\n",
       "      <td>0.973000</td>\n",
       "    </tr>\n",
       "    <tr>\n",
       "      <td>75%</td>\n",
       "      <td>NaN</td>\n",
       "      <td>19190.900000</td>\n",
       "      <td>19190.100000</td>\n",
       "      <td>19189.000000</td>\n",
       "      <td>2.923000</td>\n",
       "      <td>1.357000</td>\n",
       "      <td>1.800000</td>\n",
       "      <td>19191.600000</td>\n",
       "      <td>19192.900000</td>\n",
       "      <td>19193.700000</td>\n",
       "      <td>3.616000</td>\n",
       "      <td>2.000000</td>\n",
       "      <td>2.072000</td>\n",
       "    </tr>\n",
       "    <tr>\n",
       "      <td>max</td>\n",
       "      <td>NaN</td>\n",
       "      <td>19416.200000</td>\n",
       "      <td>19415.800000</td>\n",
       "      <td>19415.700000</td>\n",
       "      <td>82.891000</td>\n",
       "      <td>98.888000</td>\n",
       "      <td>98.888000</td>\n",
       "      <td>19418.600000</td>\n",
       "      <td>19419.600000</td>\n",
       "      <td>19419.900000</td>\n",
       "      <td>79.937000</td>\n",
       "      <td>75.035000</td>\n",
       "      <td>75.856000</td>\n",
       "    </tr>\n",
       "  </tbody>\n",
       "</table>\n",
       "</div>"
      ],
      "text/plain": [
       "       ErrorInfo          bid1          bid2          bid3         bid1v  \\\n",
       "count        0.0  82926.000000  82926.000000  82926.000000  82926.000000   \n",
       "mean         NaN  18917.015109  18915.823089  18914.742765      2.426229   \n",
       "std          NaN    352.825154    352.842477    352.745737      4.560663   \n",
       "min          NaN  18026.400000  18024.600000  18024.400000      0.001000   \n",
       "25%          NaN  18581.800000  18581.500000  18576.925000      0.133000   \n",
       "50%          NaN  19091.500000  19090.700000  19090.000000      0.615000   \n",
       "75%          NaN  19190.900000  19190.100000  19189.000000      2.923000   \n",
       "max          NaN  19416.200000  19415.800000  19415.700000     82.891000   \n",
       "\n",
       "              bid2v         bid3v          ask1          ask2          ask3  \\\n",
       "count  82926.000000  82926.000000  82926.000000  82926.000000  82926.000000   \n",
       "mean       0.969280      1.071887  18917.572221  18918.631020  18919.427496   \n",
       "std        2.468317      2.373934    352.893822    352.848229    352.844108   \n",
       "min        0.001000      0.001000  18027.600000  18031.800000  18032.700000   \n",
       "25%        0.092000      0.133000  18583.100000  18585.100000  18586.000000   \n",
       "50%        0.345000      0.651000  19092.500000  19093.800000  19094.600000   \n",
       "75%        1.357000      1.800000  19191.600000  19192.900000  19193.700000   \n",
       "max       98.888000     98.888000  19418.600000  19419.600000  19419.900000   \n",
       "\n",
       "              ask1v         ask2v         ask3v  \n",
       "count  82926.000000  82926.000000  82926.000000  \n",
       "mean       2.777842      1.135211      1.149147  \n",
       "std        4.188375      2.002486      1.610711  \n",
       "min        0.001000      0.001000      0.001000  \n",
       "25%        0.199000      0.100000      0.100000  \n",
       "50%        1.290500      0.789000      0.973000  \n",
       "75%        3.616000      2.000000      2.072000  \n",
       "max       79.937000     75.035000     75.856000  "
      ]
     },
     "execution_count": 66,
     "metadata": {},
     "output_type": "execute_result"
    }
   ],
   "source": [
    "new_df.describe()"
   ]
  },
  {
   "cell_type": "code",
   "execution_count": 68,
   "metadata": {},
   "outputs": [
    {
     "name": "stderr",
     "output_type": "stream",
     "text": [
      "Using TensorFlow backend.\n",
      "/opt/anaconda3/lib/python3.7/site-packages/tensorflow/python/framework/dtypes.py:516: FutureWarning: Passing (type, 1) or '1type' as a synonym of type is deprecated; in a future version of numpy, it will be understood as (type, (1,)) / '(1,)type'.\n",
      "  _np_qint8 = np.dtype([(\"qint8\", np.int8, 1)])\n",
      "/opt/anaconda3/lib/python3.7/site-packages/tensorflow/python/framework/dtypes.py:517: FutureWarning: Passing (type, 1) or '1type' as a synonym of type is deprecated; in a future version of numpy, it will be understood as (type, (1,)) / '(1,)type'.\n",
      "  _np_quint8 = np.dtype([(\"quint8\", np.uint8, 1)])\n",
      "/opt/anaconda3/lib/python3.7/site-packages/tensorflow/python/framework/dtypes.py:518: FutureWarning: Passing (type, 1) or '1type' as a synonym of type is deprecated; in a future version of numpy, it will be understood as (type, (1,)) / '(1,)type'.\n",
      "  _np_qint16 = np.dtype([(\"qint16\", np.int16, 1)])\n",
      "/opt/anaconda3/lib/python3.7/site-packages/tensorflow/python/framework/dtypes.py:519: FutureWarning: Passing (type, 1) or '1type' as a synonym of type is deprecated; in a future version of numpy, it will be understood as (type, (1,)) / '(1,)type'.\n",
      "  _np_quint16 = np.dtype([(\"quint16\", np.uint16, 1)])\n",
      "/opt/anaconda3/lib/python3.7/site-packages/tensorflow/python/framework/dtypes.py:520: FutureWarning: Passing (type, 1) or '1type' as a synonym of type is deprecated; in a future version of numpy, it will be understood as (type, (1,)) / '(1,)type'.\n",
      "  _np_qint32 = np.dtype([(\"qint32\", np.int32, 1)])\n",
      "/opt/anaconda3/lib/python3.7/site-packages/tensorflow/python/framework/dtypes.py:525: FutureWarning: Passing (type, 1) or '1type' as a synonym of type is deprecated; in a future version of numpy, it will be understood as (type, (1,)) / '(1,)type'.\n",
      "  np_resource = np.dtype([(\"resource\", np.ubyte, 1)])\n",
      "/opt/anaconda3/lib/python3.7/site-packages/tensorboard/compat/tensorflow_stub/dtypes.py:541: FutureWarning: Passing (type, 1) or '1type' as a synonym of type is deprecated; in a future version of numpy, it will be understood as (type, (1,)) / '(1,)type'.\n",
      "  _np_qint8 = np.dtype([(\"qint8\", np.int8, 1)])\n",
      "/opt/anaconda3/lib/python3.7/site-packages/tensorboard/compat/tensorflow_stub/dtypes.py:542: FutureWarning: Passing (type, 1) or '1type' as a synonym of type is deprecated; in a future version of numpy, it will be understood as (type, (1,)) / '(1,)type'.\n",
      "  _np_quint8 = np.dtype([(\"quint8\", np.uint8, 1)])\n",
      "/opt/anaconda3/lib/python3.7/site-packages/tensorboard/compat/tensorflow_stub/dtypes.py:543: FutureWarning: Passing (type, 1) or '1type' as a synonym of type is deprecated; in a future version of numpy, it will be understood as (type, (1,)) / '(1,)type'.\n",
      "  _np_qint16 = np.dtype([(\"qint16\", np.int16, 1)])\n",
      "/opt/anaconda3/lib/python3.7/site-packages/tensorboard/compat/tensorflow_stub/dtypes.py:544: FutureWarning: Passing (type, 1) or '1type' as a synonym of type is deprecated; in a future version of numpy, it will be understood as (type, (1,)) / '(1,)type'.\n",
      "  _np_quint16 = np.dtype([(\"quint16\", np.uint16, 1)])\n",
      "/opt/anaconda3/lib/python3.7/site-packages/tensorboard/compat/tensorflow_stub/dtypes.py:545: FutureWarning: Passing (type, 1) or '1type' as a synonym of type is deprecated; in a future version of numpy, it will be understood as (type, (1,)) / '(1,)type'.\n",
      "  _np_qint32 = np.dtype([(\"qint32\", np.int32, 1)])\n",
      "/opt/anaconda3/lib/python3.7/site-packages/tensorboard/compat/tensorflow_stub/dtypes.py:550: FutureWarning: Passing (type, 1) or '1type' as a synonym of type is deprecated; in a future version of numpy, it will be understood as (type, (1,)) / '(1,)type'.\n",
      "  np_resource = np.dtype([(\"resource\", np.ubyte, 1)])\n"
     ]
    }
   ],
   "source": [
    "import numpy\n",
    "import matplotlib.pyplot as plt\n",
    "import pandas\n",
    "import math\n",
    "from keras.models import Sequential\n",
    "from keras.layers import Dense\n",
    "from keras.layers import LSTM\n",
    "from sklearn.preprocessing import MinMaxScaler\n",
    "from sklearn.metrics import mean_squared_error"
   ]
  },
  {
   "cell_type": "code",
   "execution_count": 69,
   "metadata": {},
   "outputs": [],
   "source": [
    "numpy.random.seed(7)"
   ]
  },
  {
   "cell_type": "code",
   "execution_count": 71,
   "metadata": {},
   "outputs": [
    {
     "data": {
      "text/plain": [
       "array([[Timestamp('2020-12-12 00:00:02'), False, nan, ..., 0.055, 1.0,\n",
       "        0.125],\n",
       "       [Timestamp('2020-12-12 00:00:05'), False, nan, ..., 3.727, 0.051,\n",
       "        2.125],\n",
       "       [Timestamp('2020-12-12 00:00:08'), False, nan, ..., 0.133, 2.0,\n",
       "        0.416],\n",
       "       ...,\n",
       "       [Timestamp('2020-12-14 23:59:52'), False, nan, ..., 15.375, 2.498,\n",
       "        2.076],\n",
       "       [Timestamp('2020-12-14 23:59:55'), False, nan, ..., 15.623, 2.498,\n",
       "        2.076],\n",
       "       [Timestamp('2020-12-14 23:59:58'), False, nan, ..., 15.623, 2.498,\n",
       "        2.076]], dtype=object)"
      ]
     },
     "execution_count": 71,
     "metadata": {},
     "output_type": "execute_result"
    }
   ],
   "source": [
    "new_df.values"
   ]
  },
  {
   "cell_type": "code",
   "execution_count": null,
   "metadata": {},
   "outputs": [],
   "source": []
  }
 ],
 "metadata": {
  "kernelspec": {
   "display_name": "Python 3",
   "language": "python",
   "name": "python3"
  },
  "language_info": {
   "codemirror_mode": {
    "name": "ipython",
    "version": 3
   },
   "file_extension": ".py",
   "mimetype": "text/x-python",
   "name": "python",
   "nbconvert_exporter": "python",
   "pygments_lexer": "ipython3",
   "version": "3.7.4"
  }
 },
 "nbformat": 4,
 "nbformat_minor": 2
}
